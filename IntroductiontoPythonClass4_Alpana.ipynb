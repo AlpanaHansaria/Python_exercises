{
  "nbformat": 4,
  "nbformat_minor": 0,
  "metadata": {
    "colab": {
      "provenance": [],
      "toc_visible": true,
      "include_colab_link": true
    },
    "kernelspec": {
      "name": "python3",
      "display_name": "Python 3"
    }
  },
  "cells": [
    {
      "cell_type": "markdown",
      "metadata": {
        "id": "view-in-github",
        "colab_type": "text"
      },
      "source": [
        "<a href=\"https://colab.research.google.com/github/AlpanaHansaria/Python_exercises/blob/main/IntroductiontoPythonClass4_Alpana.ipynb\" target=\"_parent\"><img src=\"https://colab.research.google.com/assets/colab-badge.svg\" alt=\"Open In Colab\"/></a>"
      ]
    },
    {
      "cell_type": "markdown",
      "metadata": {
        "id": "EGaF2GT4uTfu"
      },
      "source": [
        "# Intro to Python Class 4 Student Handout\n",
        "## <font color='turquoise'>opaledge</font>\n",
        "\n",
        "This is an \"Google Colab\" notebook. It's very similar to Jupyter Notebook, which we'll use extensively in this class. Unlike in Jupyter notebooks, however, this is a shared document where everybody can see and make changes to the same document.\n",
        "\n",
        "These problems are directly related to the slides for **week 2 class 1** that we will be going over in class.\n",
        "\n",
        "**Reference Links**:\n",
        "\n",
        "[W3 Schools](https://www.w3schools.com/python/)\n",
        "\n",
        "[Linux Commands](https://www.digitalocean.com/community/tutorials/linux-commands#file-and-directory-commands)\n",
        "\n",
        "[Git/Github Commands](https://github.com/joshnh/Git-Commands)"
      ]
    },
    {
      "cell_type": "markdown",
      "metadata": {
        "id": "ZIXhUrABjIZi"
      },
      "source": [
        "#1.0 Functions\n",
        "\n",
        "Types of Python Functions:\n",
        "\n",
        "**Built-in Functions**:\n",
        "These are functions readily available in Python's standard library, such as print(), len(), sum(), int(), etc. They are loaded into memory when the Python interpreter starts.\n",
        "\n",
        "**Functions Defined in Built-in Modules:**\n",
        "The standard library also contains various modules, each defining a collection of functions. These functions need to be imported from their respective modules before use (e.g., math.sqrt() after import math).\n",
        "\n",
        "**User-defined Functions**:\n",
        "These are functions created by the programmer to perform specific tasks within their application."
      ]
    },
    {
      "cell_type": "markdown",
      "source": [
        "##1.1 User Defined Functions"
      ],
      "metadata": {
        "id": "DLIK7xmozyRg"
      }
    },
    {
      "cell_type": "markdown",
      "source": [
        "###1.11 Parts of a Function\n",
        "\n",
        "**def keyword**:\n",
        "Signals the beginning of a function definition in Python.\n",
        "\n",
        "**Function Name**:\n",
        "A unique identifier chosen by the programmer that should describe the function’s purpose.\n",
        "\n",
        "**Parameters (optional)**:\n",
        "Enclosed in parentheses (), they act as placeholders for input values and function as local variables within the function's scope.\n",
        "\n",
        "**Colon (:)**:\n",
        "Indicates the end of the function header and the start of the function body.\n",
        "\n",
        "**Signature**:\n",
        "Refers to how the function is called, including its name and parameters.\n",
        "\n",
        "**Docstring (optional)**:\n",
        "A triple-quoted string (\"\"\"Docstring here\"\"\") placed immediately after the function header to document what the function does and how to use it.\n",
        "\n",
        "**Function Body**:\n",
        "The indented block of code containing the instructions the function executes when called.\n",
        "\n",
        "**return statement (optional)**:\n",
        "Exits the function and optionally returns a value. If omitted or used without a value, the function returns None by default."
      ],
      "metadata": {
        "id": "AxsxrLE5zVwC"
      }
    },
    {
      "cell_type": "code",
      "source": [
        "#Example 1\n",
        "def greet(name):\n",
        "    \"\"\"\n",
        "    This function takes a name as input and prints a greeting.\n",
        "    \"\"\"\n",
        "    print(f\"Hello, {name}!\")\n",
        "    return None # Explicitly returning None, though it's optional"
      ],
      "metadata": {
        "id": "tiYKcXv9yQyQ"
      },
      "execution_count": null,
      "outputs": []
    },
    {
      "cell_type": "markdown",
      "source": [
        "For Example 2, **identify the signature and the return statement**. note where the return statement is located within the function body"
      ],
      "metadata": {
        "id": "Ge_lyRIcyXbb"
      }
    },
    {
      "cell_type": "code",
      "metadata": {
        "id": "AR-yrYNCLAH-",
        "colab": {
          "base_uri": "https://localhost:8080/"
        },
        "outputId": "4968832a-a9a5-4f3a-c1a7-f1acdabb7f65"
      },
      "source": [
        "#Example 2\n",
        "def add_even(a,b):\n",
        "  if a % 2 == 0:\n",
        "    return a + b\n",
        "  else:\n",
        "    print('a is not even')\n",
        "    return None\n",
        "\n",
        "add_even(12,3)"
      ],
      "execution_count": null,
      "outputs": [
        {
          "output_type": "execute_result",
          "data": {
            "text/plain": [
              "15"
            ]
          },
          "metadata": {},
          "execution_count": 2
        }
      ]
    },
    {
      "cell_type": "markdown",
      "source": [
        "We can even put a match-case conditional in a function definition/body. **Heads up!** What is the return statement of this function?"
      ],
      "metadata": {
        "id": "S6bpj52FyuP8"
      }
    },
    {
      "cell_type": "code",
      "metadata": {
        "id": "A95tyqshLana",
        "colab": {
          "base_uri": "https://localhost:8080/"
        },
        "outputId": "754d0129-0f63-4554-af7f-daf5a5728c48"
      },
      "source": [
        "#Exercise 1: create a user-defined function that uses a match case conditional\n",
        "def menu_option(choice):\n",
        "  match choice:\n",
        "    case 1:\n",
        "      print(\"View Balance\")\n",
        "    case 2:\n",
        "      print(\"Deposit Money\")\n",
        "    case 3:\n",
        "      print(\"Withdraw Money\")\n",
        "    case _:\n",
        "      print(\"Invalid choice\")\n",
        "# Test it by calling the function with its siganture and parameters\n",
        "menu_option(10)"
      ],
      "execution_count": null,
      "outputs": [
        {
          "output_type": "stream",
          "name": "stdout",
          "text": [
            "Invalid choice\n"
          ]
        }
      ]
    },
    {
      "cell_type": "markdown",
      "source": [
        "###1.12 Parameters vs. Arguments\n",
        "\n",
        "In Python, the terms \"parameters\" and \"arguments\" are distinct concepts related to function definitions and calls:\n",
        "\n",
        "**Parameters**: Parameters are placeholders or variables defined within the parentheses of a function's definition. They act as names for the data that a function expects to receive when it is called. Parameters are declared during the function's creation and specify the types and order of inputs the function can accept.\n",
        "\n",
        "**Arguments**: Arguments are the actual values or expressions passed to a function when it is called. These values are assigned to the corresponding parameters within the function's scope, allowing the function to perform operations using that specific data.\n"
      ],
      "metadata": {
        "id": "2COBYWfiz6r_"
      }
    },
    {
      "cell_type": "code",
      "source": [
        "#Example 1\n",
        "def greet(name):  # 'name' is a parameter\n",
        "        print(f\"Hello, {name}!\")\n",
        "greet(\"Alice\")  # \"Alice\" is an argument"
      ],
      "metadata": {
        "id": "xqMCT0hv0I-r",
        "colab": {
          "base_uri": "https://localhost:8080/"
        },
        "outputId": "661ec492-bf59-4f51-a0a4-d83597e2655b"
      },
      "execution_count": null,
      "outputs": [
        {
          "output_type": "stream",
          "name": "stdout",
          "text": [
            "Hello, Alice!\n"
          ]
        }
      ]
    },
    {
      "cell_type": "markdown",
      "source": [
        "###1.13 Scope of Variables\n",
        "\n",
        "**Local Scope**: Variables defined inside a function are local to that function. They are accessible only within the function where they are defined and are created when the function is called and destroyed when the function completes execution.\n",
        "\n",
        "**Enclosing Scope (Nonlocal)**: If a function is defined within another function (a nested function), variables in the outer (enclosing) function's scope are accessible to the inner function. These are referred to as nonlocal variables.\n",
        "\n",
        "**Global Scope**: Variables defined at the top level of a Python script (outside any function) have global scope. They are accessible from anywhere in the script, including inside functions. To modify a global variable from within a function, the global keyword must be used.\n",
        "\n",
        "**Built-in Scope**: This is the outermost scope and contains Python's pre-defined functions and keywords (e.g., print, len, True, False). These are always available for use.\n"
      ],
      "metadata": {
        "id": "gdcgNfY00aRq"
      }
    },
    {
      "cell_type": "code",
      "source": [
        "#Example 1: Local Variables\n",
        "def my_function():\n",
        "        local_var = \"I am local\"\n",
        "        print(local_var)\n",
        "\n",
        "my_function()\n",
        "#print(local_var)  # This would raise a NameError"
      ],
      "metadata": {
        "colab": {
          "base_uri": "https://localhost:8080/"
        },
        "id": "CvnFkRcP1DI3",
        "outputId": "2d045b74-95d9-4c61-c6f2-fc93a6c821ac"
      },
      "execution_count": null,
      "outputs": [
        {
          "output_type": "stream",
          "name": "stdout",
          "text": [
            "I am local\n"
          ]
        }
      ]
    },
    {
      "cell_type": "code",
      "source": [
        "#Example 2: Global Variables\n",
        "global_var = \"I am global\"\n",
        "\n",
        "def modify_global():\n",
        "    global_var = \"I am modified global\"\n",
        "    print(global_var)\n",
        "\n",
        "def access_global():\n",
        "    print(global_var)\n",
        "\n",
        "access_global()\n",
        "modify_global()\n",
        "access_global()"
      ],
      "metadata": {
        "colab": {
          "base_uri": "https://localhost:8080/"
        },
        "id": "9ZdwDTDm1b9N",
        "outputId": "2343d20a-684f-4970-d172-06fc2749e2c6"
      },
      "execution_count": null,
      "outputs": [
        {
          "output_type": "stream",
          "name": "stdout",
          "text": [
            "I am global\n",
            "I am modified global\n",
            "I am global\n"
          ]
        }
      ]
    },
    {
      "cell_type": "code",
      "source": [
        "#Exercise 1: Nested functions and Nonlocal scope; code along\n",
        "def outer_function():\n",
        "  enclose_var = \"i am in the enclosing scope\"\n",
        "  print(enclose_var)\n",
        "\n",
        "  def inner_function():\n",
        "    nonlocal enclose_var\n",
        "    enclose_var = \"i am modified in the inner function\"\n",
        "    print(enclose_var)\n",
        "\n",
        "  inner_function()\n",
        "  print(enclose_var)\n",
        "\n",
        "outer_function()"
      ],
      "metadata": {
        "colab": {
          "base_uri": "https://localhost:8080/"
        },
        "id": "00j5fKJe1zVr",
        "outputId": "d11587ed-eb7f-4a42-a13f-ab73df848e2d"
      },
      "execution_count": null,
      "outputs": [
        {
          "output_type": "stream",
          "name": "stdout",
          "text": [
            "i am in the enclosing scope\n",
            "i am modified in the inner function\n",
            "i am modified in the inner function\n"
          ]
        }
      ]
    },
    {
      "cell_type": "markdown",
      "source": [
        "##1.2 Built-in Functions\n",
        "\n",
        "**Built-in functions** in Python are predefined functions provided by the Python interpreter that are always available for use without needing to be imported from a module.\n",
        "\n",
        "**Examples of Common Built-in Functions**:\n",
        "\n",
        "print(): Displays output to the console.\n",
        "\n",
        "len(): Returns the length of an object (e.g., string, list, tuple).\n",
        "\n",
        "input(): Reads input from the user.\n",
        "int(), float(), str(): Convert values between different data types.\n",
        "\n",
        "sum(): Calculates the sum of elements in an iterable.\n",
        "\n",
        "max(), min(): Find the maximum or minimum value in an iterable.\n",
        "\n",
        "abs(): Returns the absolute value of a number.\n",
        "\n",
        "range(): Generates a sequence of numbers.\n",
        "\n",
        "dir(): Returns a list of names in the current scope or attributes of an object.\n",
        "\n",
        "help(): Provides help documentation for objects or functions."
      ],
      "metadata": {
        "id": "TU-gj8mH4GBk"
      }
    },
    {
      "cell_type": "code",
      "source": [
        "#Example 1: len()\n",
        "my_list = [1, 2, 3, 4, 5]\n",
        "print(len(my_list))"
      ],
      "metadata": {
        "colab": {
          "base_uri": "https://localhost:8080/"
        },
        "id": "G1nIOprV40Xz",
        "outputId": "40dbd85f-a927-4935-a8bc-4b921302dc93"
      },
      "execution_count": null,
      "outputs": [
        {
          "output_type": "stream",
          "name": "stdout",
          "text": [
            "5\n"
          ]
        }
      ]
    },
    {
      "cell_type": "code",
      "source": [
        "#Example 2: int(), str(), float() and other type converter funcs\n",
        "number_str = \"123\"\n",
        "number_int = int(number_str)\n",
        "print(type(number_int))  # Output: <class 'int'>"
      ],
      "metadata": {
        "colab": {
          "base_uri": "https://localhost:8080/"
        },
        "id": "oUsy5Zdr47LP",
        "outputId": "2cca36ef-8cd4-4ae6-8b54-1e1292794bd6"
      },
      "execution_count": null,
      "outputs": [
        {
          "output_type": "stream",
          "name": "stdout",
          "text": [
            "<class 'int'>\n"
          ]
        }
      ]
    },
    {
      "cell_type": "code",
      "source": [
        "#Exercise 1: how to print abs value of -15?\n",
        "absolute_value = abs(-15)\n",
        "print(absolute_value)"
      ],
      "metadata": {
        "id": "Q3Yr2BvW5mKG",
        "colab": {
          "base_uri": "https://localhost:8080/"
        },
        "outputId": "a53f5d6b-9206-4259-d312-b5c34e6a6ea1"
      },
      "execution_count": null,
      "outputs": [
        {
          "output_type": "stream",
          "name": "stdout",
          "text": [
            "15\n"
          ]
        }
      ]
    },
    {
      "cell_type": "markdown",
      "source": [
        "##1.3 Lambda Functions\n",
        "\n",
        "A lambda function in Python is a small, anonymous function defined using the **lambda keyword.**\n",
        "\n",
        "**Key characteristics of Python lambda functions:**\n",
        "\n",
        "*Anonymous:* They are not defined with a def statement and do not require a name.\n",
        "\n",
        "*Single Expression:* They can only contain a single expression, which becomes the return value. The return keyword is not used.\n",
        "\n",
        "*Concise Syntax:* The syntax is lambda arguments: expression.\n",
        "\n",
        "*Can take multiple arguments:* Similar to regular functions, they can accept any number of arguments\n",
        "\n",
        "\n",
        "**When to use (and not use) lambda :**\n",
        "\n",
        "*Use when:*\n",
        "You need a simple, single-expression function for immediate use, especially with higher-order functions.\n",
        "\n",
        "*Avoid when:*\n",
        "The function requires multiple statements, a docstring, or is complex enough to benefit from a formal def definition and naming for clarity and reusability."
      ],
      "metadata": {
        "id": "LaeL8i7L7zz-"
      }
    },
    {
      "cell_type": "code",
      "source": [
        "#Example 1\n",
        "\n",
        "# Lambda to add two numbers\n",
        "add = lambda x, y: x + y\n",
        "print(add(5, 3))  # Output: 8\n",
        "\n",
        "# Exercise 1: Lambda to multiply a number by 2\n",
        "multiply = lambda x: 2*x\n",
        "userint = int(input(\"enter a num: \"))\n",
        "print(multiply(userint))\n",
        "\n"
      ],
      "metadata": {
        "id": "y2xeK4Ig8kGz",
        "colab": {
          "base_uri": "https://localhost:8080/"
        },
        "outputId": "328b4bb4-f0cf-4ecd-e2ce-aa9426835c17"
      },
      "execution_count": null,
      "outputs": [
        {
          "output_type": "stream",
          "name": "stdout",
          "text": [
            "8\n",
            "enter a num: 14\n",
            "28\n"
          ]
        }
      ]
    },
    {
      "cell_type": "code",
      "source": [
        "#Example 2: Check if a number is even or odd\n",
        "check_even_odd = lambda x: \"Even\" if x % 2 == 0 else \"Odd\"\n",
        "print(check_even_odd(4))  # Output: Even\n",
        "print(check_even_odd(7))  # Output: Odd"
      ],
      "metadata": {
        "id": "Lw8_fu8l8v8u",
        "colab": {
          "base_uri": "https://localhost:8080/"
        },
        "outputId": "96044201-0b0d-45c1-c412-d09eee855780"
      },
      "execution_count": null,
      "outputs": [
        {
          "output_type": "stream",
          "name": "stdout",
          "text": [
            "Even\n",
            "Odd\n"
          ]
        }
      ]
    },
    {
      "cell_type": "markdown",
      "source": [
        "##1.4 Higher Order Functions\n",
        "\n",
        "Takes one or more functions as arguments.\n",
        "\n",
        "This allows for abstracting common patterns and applying different behaviors based on the function passed in.\n",
        "Returns a function as its result.\n",
        "\n",
        "This enables *creating functions dynamically* or building function factories.\n",
        "\n",
        "**Key Concepts**:\n",
        "\n",
        "**First-Class Functions**: In Python, functions are treated as \"first-class citizens,\" meaning they can be assigned to variables, passed as arguments to other functions, stored in data structures, and returned from functions. This characteristic is fundamental to enabling higher-order functions."
      ],
      "metadata": {
        "id": "JICYRg4g-KB2"
      }
    },
    {
      "cell_type": "markdown",
      "source": [
        "**Built-in Higher-Order Functions:**\n",
        "\n",
        "**map()**: Applies a given function to each item in an iterable and returns an iterator of the results.\n",
        "\n",
        "```\n",
        "numbers = [1, 2, 3, 4]\n",
        "squared_numbers = list(map(lambda x: x * x, numbers))\n",
        "# squared_numbers will be [1, 4, 9, 16]\n",
        "```\n",
        "\n",
        "**filter()**: Constructs an iterator from elements of an iterable for which a function returns true.\n",
        "\n",
        "```\n",
        "numbers = [1, 2, 3, 4, 5, 6]\n",
        "even_numbers = list(filter(lambda x: x % 2 == 0, numbers))\n",
        "# even_numbers will be [2, 4, 6]\n",
        "```\n",
        "\n",
        "**sorted()**: Sorts an iterable and returns a new sorted list. It can take a key argument, which is a function to be called on each list element prior to making comparisons.\n",
        "\n",
        "```\n",
        "words = [\"banana\", \"apple\", \"cherry\"]\n",
        "sorted_by_length = sorted(words, key=len)\n",
        "# sorted_by_length will be ['apple', 'banana', 'cherry']\n",
        "```"
      ],
      "metadata": {
        "id": "FMPcCcY2-ic7"
      }
    },
    {
      "cell_type": "code",
      "source": [
        "#Exercise 1: Copy and paste each of these and experiment with what happens and see if you can decipher the logic\n",
        "numbers = [1, 2, 3, 4]\n",
        "squared_numbers = list(map(lambda x: x * x, numbers))\n",
        "# squared_numbers will be [1, 4, 9, 16]\n",
        "print(squared_numbers)\n",
        "\n",
        "numbers = [1, 2, 3, 4, 5, 6]\n",
        "even_numbers = list(filter(lambda x: x % 2 == 0, numbers))\n",
        "print(even_numbers)\n",
        "# even_numbers will be [2, 4, 6]\n",
        "\n",
        "words = [\"banana\", \"apple\", \"cherry\"]\n",
        "sorted_by_length = sorted(words, key=len)\n",
        "print(sorted_by_length)\n",
        "# sorted_by_length will be ['apple', 'banana', 'cherry']"
      ],
      "metadata": {
        "id": "HGFc5KoJ_U1W",
        "colab": {
          "base_uri": "https://localhost:8080/"
        },
        "outputId": "c9da5b9e-1a25-49c0-c010-77f087082707"
      },
      "execution_count": null,
      "outputs": [
        {
          "output_type": "stream",
          "name": "stdout",
          "text": [
            "[1, 4, 9, 16]\n",
            "[2, 4, 6]\n",
            "['apple', 'banana', 'cherry']\n"
          ]
        }
      ]
    },
    {
      "cell_type": "markdown",
      "source": [
        "##1.5 Recursive Functions\n",
        "Key Components of a Recursive Function:\n",
        "\n",
        "Base Case:This is the condition that stops the recursion. Without a base case, a recursive function would call itself indefinitely, leading to a \"RecursionError\" (stack overflow) in Python. The base case provides a simple, non-recursive solution for the smallest instance of the problem.\n",
        "\n",
        "Recursive Step:\n",
        "This is where the function calls itself with a modified input, bringing the problem closer to the base case. The recursive call typically operates on a smaller or simpler version of the original problem.\n",
        "\n",
        "\n",
        "```\n",
        "def factorial(n):\n",
        "    # Base Case: when n is 0 or 1, return 1 (by definition of factorial)\n",
        "    if n == 0 or n == 1:\n",
        "        return 1\n",
        "    \n",
        "    # Recursive Step: multiply n by the factorial of (n - 1)\n",
        "    return n * factorial(n - 1)\n",
        "\n",
        "# Example usage:\n",
        "print(factorial(5))  # Output: 120\n",
        "```"
      ],
      "metadata": {
        "id": "oZD8yz_AFpsM"
      }
    },
    {
      "cell_type": "code",
      "source": [
        "def factorial(n):\n",
        "    # Base Case: when n is 0 or 1, return 1 (by definition of factorial)\n",
        "    if n == 0 or n == 1:\n",
        "        return 1\n",
        "\n",
        "    # Recursive Step: multiply n by the factorial of (n - 1)\n",
        "    return n * factorial(n - 1)\n",
        "\n",
        "# Example usage:\n",
        "print(factorial(5))  # Output: 120"
      ],
      "metadata": {
        "colab": {
          "base_uri": "https://localhost:8080/"
        },
        "id": "MZv795Da4rt3",
        "outputId": "80612023-2707-42ac-82d4-6983a74a9afc"
      },
      "execution_count": null,
      "outputs": [
        {
          "output_type": "stream",
          "name": "stdout",
          "text": [
            "120\n"
          ]
        }
      ]
    },
    {
      "cell_type": "code",
      "source": [
        "counter = 1\n",
        "\n",
        "def factorial(n):\n",
        "    # Base Case: when n is 0 or 1, return 1 (by definition of factorial)\n",
        "    global counter\n",
        "    print(\"recursive step:\", counter)\n",
        "    counter += 1\n",
        "    if n == 0 or n == 1:\n",
        "      print(\"this is the base case\")\n",
        "      return 1\n",
        "\n",
        "    # Recursive Step: multiply n by the factorial of (n - 1)\n",
        "    return n * factorial(n-1)\n",
        "\n",
        "# Example usage:\n",
        "print(factorial(5))  # Output: 120"
      ],
      "metadata": {
        "colab": {
          "base_uri": "https://localhost:8080/"
        },
        "id": "klz4cvZHJJpk",
        "outputId": "6b22c11c-236c-44b8-ad37-24139b951a12"
      },
      "execution_count": null,
      "outputs": [
        {
          "output_type": "stream",
          "name": "stdout",
          "text": [
            "recursive step: 1\n",
            "recursive step: 2\n",
            "recursive step: 3\n",
            "recursive step: 4\n",
            "recursive step: 5\n",
            "this is the base case\n",
            "120\n"
          ]
        }
      ]
    },
    {
      "cell_type": "code",
      "source": [
        "#Home work Python Class 4\n",
        "#Write a Python program that asks the user to input a list of numbers (separated by spaces),\n",
        "#and then finds the maximum number in the list using a user-defined function and the built-in max() function.\n",
        "\n",
        "#User-defined function\n",
        "def find_max_number(numbers):\n",
        "    \"\"\"\n",
        "    Takes a list of numbers and returns the maximum number using built-in max()\n",
        "    \"\"\"\n",
        "    return max(numbers)  # max() is the built-in function\n",
        "\n",
        "# Take input from the user\n",
        "user_input = input(\"Enter numbers separated by space: \")\n",
        "\n",
        "# Convert input string into a list of integers\n",
        "num_list = [int(num) for num in user_input.split()]\n",
        "\n",
        "# Call the user-defined function\n",
        "maximum = find_max_number(num_list)\n",
        "\n",
        "# Print the result\n",
        "print(\"The maximum number in your list is:\", maximum)\n",
        "\n"
      ],
      "metadata": {
        "colab": {
          "base_uri": "https://localhost:8080/"
        },
        "id": "UBCsLicRP_mc",
        "outputId": "6ea57485-5549-4311-cd8d-3a911816769d"
      },
      "execution_count": 4,
      "outputs": [
        {
          "output_type": "stream",
          "name": "stdout",
          "text": [
            "Enter numbers separated by space: 2 23 12\n",
            "The maximum number in your list is: 23\n"
          ]
        }
      ]
    },
    {
      "cell_type": "markdown",
      "source": [
        "Write a recursive function for a Fibbonacci sequence:![image.png](data:image/png;base64,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)"
      ],
      "metadata": {
        "id": "sGfu5S8PHu5X"
      }
    },
    {
      "cell_type": "code",
      "source": [],
      "metadata": {
        "id": "A5cwakFCurdq"
      },
      "execution_count": null,
      "outputs": []
    },
    {
      "cell_type": "code",
      "source": [
        "#Exercise 1: Write a recursive function for a fibbonaci series and call it\n",
        "\n",
        "def fibbonacci(n):\n",
        "  print(\"----------------\")\n",
        "  if n <= 1:\n",
        "    return n\n",
        "  else:\n",
        "    print(\"this is the current n term: \", n)\n",
        "    return fibbonacci(n-1) + fibbonacci(n-2)\n",
        "\n",
        "print(fibbonacci(7))"
      ],
      "metadata": {
        "id": "sHj1kUvgI8lU",
        "colab": {
          "base_uri": "https://localhost:8080/"
        },
        "outputId": "a4c602dc-1045-491e-b87e-cd3d3500010b",
        "collapsed": true
      },
      "execution_count": null,
      "outputs": [
        {
          "output_type": "stream",
          "name": "stdout",
          "text": [
            "----------------\n",
            "this is the current n term:  7\n",
            "----------------\n",
            "this is the current n term:  6\n",
            "----------------\n",
            "this is the current n term:  5\n",
            "----------------\n",
            "this is the current n term:  4\n",
            "----------------\n",
            "this is the current n term:  3\n",
            "----------------\n",
            "this is the current n term:  2\n",
            "----------------\n",
            "----------------\n",
            "----------------\n",
            "----------------\n",
            "this is the current n term:  2\n",
            "----------------\n",
            "----------------\n",
            "----------------\n",
            "this is the current n term:  3\n",
            "----------------\n",
            "this is the current n term:  2\n",
            "----------------\n",
            "----------------\n",
            "----------------\n",
            "----------------\n",
            "this is the current n term:  4\n",
            "----------------\n",
            "this is the current n term:  3\n",
            "----------------\n",
            "this is the current n term:  2\n",
            "----------------\n",
            "----------------\n",
            "----------------\n",
            "----------------\n",
            "this is the current n term:  2\n",
            "----------------\n",
            "----------------\n",
            "----------------\n",
            "this is the current n term:  5\n",
            "----------------\n",
            "this is the current n term:  4\n",
            "----------------\n",
            "this is the current n term:  3\n",
            "----------------\n",
            "this is the current n term:  2\n",
            "----------------\n",
            "----------------\n",
            "----------------\n",
            "----------------\n",
            "this is the current n term:  2\n",
            "----------------\n",
            "----------------\n",
            "----------------\n",
            "this is the current n term:  3\n",
            "----------------\n",
            "this is the current n term:  2\n",
            "----------------\n",
            "----------------\n",
            "----------------\n",
            "13\n"
          ]
        }
      ]
    },
    {
      "cell_type": "code",
      "source": [
        "# Python session 4 Home Work\n",
        "#"
      ],
      "metadata": {
        "id": "geEMtV4hutB1"
      },
      "execution_count": null,
      "outputs": []
    }
  ]
}