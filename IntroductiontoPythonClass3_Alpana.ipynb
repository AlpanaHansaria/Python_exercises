{
  "cells": [
    {
      "cell_type": "markdown",
      "metadata": {
        "colab_type": "text",
        "id": "view-in-github"
      },
      "source": [
        "<a href=\"https://colab.research.google.com/github/AlpanaHansaria/Python_exercises/blob/main/IntroductiontoPythonClass3_Alpana.ipynb\" target=\"_parent\"><img src=\"https://colab.research.google.com/assets/colab-badge.svg\" alt=\"Open In Colab\"/></a>"
      ]
    },
    {
      "cell_type": "markdown",
      "metadata": {
        "id": "EGaF2GT4uTfu"
      },
      "source": [
        "# Introduction to Python Class 3 Student Handout\n",
        "## <font color='turquoise'>opaledge</font>\n",
        "This is an \"Google Colab\" notebook. It's very similar to Jupyter Notebook, which we'll use extensively in this class. Unlike in Jupyter notebooks, however, this is a shared document where everybody can see and make changes to the same document.\n",
        "**Save your own copy and replace StudentName with FirstnameLastname**\n",
        "\n",
        "The first few problems will get us acquainted with working together.\n",
        "\n",
        "**Reference Links**:\n",
        "\n",
        "[W3 Schools](https://www.w3schools.com/python/)\n",
        "\n",
        "[Linux Commands](https://www.digitalocean.com/community/tutorials/linux-commands#file-and-directory-commands)\n",
        "\n",
        "[Git/Github Commands](https://github.com/joshnh/Git-Commands)"
      ]
    },
    {
      "cell_type": "markdown",
      "metadata": {
        "id": "HXVFIiM0KqMO"
      },
      "source": []
    },
    {
      "cell_type": "markdown",
      "metadata": {
        "id": "WsjmO2LllnlQ"
      },
      "source": [
        "If you would like to follow along and use your own notebook, please use these instructions.\n",
        "1. Go to _file_ in the upper left corner\n",
        "2. Click _Save copy in drive_\n",
        "3. Follow along and use your own notebook!"
      ]
    },
    {
      "cell_type": "code",
      "execution_count": null,
      "metadata": {
        "id": "30nAHO_TlVju"
      },
      "outputs": [],
      "source": [
        "# This is a comment\n",
        "# in a code cell\n",
        "# Press shift + enter to execute a cell\n",
        "# Nothing will print from this cell since these are all comments"
      ]
    },
    {
      "cell_type": "code",
      "execution_count": null,
      "metadata": {
        "colab": {
          "base_uri": "https://localhost:8080/"
        },
        "id": "4aDJnI7PMS5f",
        "outputId": "de40d8c8-ba2b-484e-88ea-a1416e7360fc"
      },
      "outputs": [
        {
          "name": "stdout",
          "output_type": "stream",
          "text": [
            "hello world\n"
          ]
        }
      ],
      "source": [
        "#Example 1\n"
      ]
    },
    {
      "cell_type": "markdown",
      "metadata": {
        "id": "NCcCHHCzgSQX"
      },
      "source": [
        "### Note\n",
        "\n",
        "In Python, anything after the `#` sign is _not executed_. These are called \"comments\". Lines that start with `#`are  ignored by the Python interpreter and plays no role in the computer program. It's just there as a note to humans reading the code."
      ]
    },
    {
      "cell_type": "markdown",
      "metadata": {
        "id": "_tExYlfHx_L1"
      },
      "source": [
        "## Lesson 0.1: Hello World, Simplified\n",
        "\n",
        "The last statement to evaluate in the cell is automatically printed. So, the `print` statement is redundant.\n",
        "\n",
        "1. Click on this cell. This cell will highlight.\n",
        "1. Click the \"+ CODE\" button in the header. This will create a cell in the next line.\n",
        "1. In this cell, enter:\n",
        "\n",
        "> ```python\n",
        "> # YOUR NAME HERE\n",
        "> \"Hello world!\"\n",
        "> ```\n",
        "\n",
        "4. Click on the \"play\" button to the left of the cell.\n",
        "\n",
        "----------"
      ]
    },
    {
      "cell_type": "code",
      "execution_count": null,
      "metadata": {
        "colab": {
          "base_uri": "https://localhost:8080/",
          "height": 35
        },
        "id": "g9fEezgtF4hj",
        "outputId": "90d27593-841f-4e93-bae0-bcb3221e21e6"
      },
      "outputs": [
        {
          "data": {
            "application/vnd.google.colaboratory.intrinsic+json": {
              "type": "string"
            },
            "text/plain": [
              "'Hello World'"
            ]
          },
          "execution_count": 2,
          "metadata": {},
          "output_type": "execute_result"
        }
      ],
      "source": [
        "#Alpana\n",
        "\"Hello World\""
      ]
    },
    {
      "cell_type": "code",
      "execution_count": null,
      "metadata": {
        "colab": {
          "base_uri": "https://localhost:8080/"
        },
        "id": "RP5M3YvIMzRP",
        "outputId": "55e41e87-e69e-472f-ea84-4ccdf35387fe"
      },
      "outputs": [
        {
          "name": "stdout",
          "output_type": "stream",
          "text": [
            "Hello World\n"
          ]
        }
      ],
      "source": [
        "#Example 1\n",
        "# YOUR NAME\n",
        "print(\"Hello World\")"
      ]
    },
    {
      "cell_type": "markdown",
      "metadata": {
        "id": "esHycXYvppGK"
      },
      "source": [
        "### What's the difference?\n",
        "\n",
        "The  `print(x)` function writes the result of `str(x)` to the standard output. In a jupyter notebook, everything written to `stdout` is printed directy below the code cell.\n",
        "\n"
      ]
    },
    {
      "cell_type": "code",
      "execution_count": null,
      "metadata": {
        "colab": {
          "base_uri": "https://localhost:8080/"
        },
        "id": "ZKTAIvqXq3W1",
        "outputId": "6d0df187-a190-4a5f-cd4b-cdee4e0298c5"
      },
      "outputs": [
        {
          "name": "stdout",
          "output_type": "stream",
          "text": [
            "Hello World using standard out\n",
            "Hello World using print()\n"
          ]
        }
      ],
      "source": [
        "#Example 2\n",
        "# Here we write a value to stdout, which is the same thing as print().\n",
        "import sys\n",
        "\n",
        "sys.stdout.write(\"Hello World using standard out\\n\")\n",
        "print(\"Hello World using print()\")"
      ]
    },
    {
      "cell_type": "markdown",
      "metadata": {
        "id": "JLkGw_iArOQ_"
      },
      "source": [
        "The main takeaway being: `print()` works in almost every kind of python environment - notebook, command line, script, web server, or library - because they all have access to `stdout`.\n",
        "\n",
        "Ending a cell in a Jupyter notebook with an expression `x` will print the value of `repr(x)` directly below the cell. This is special behavior particular to Jupyter notebooks. If you try this _outside_ of a Jupyter notebook, you'll have a bad time."
      ]
    },
    {
      "cell_type": "code",
      "execution_count": null,
      "metadata": {
        "colab": {
          "base_uri": "https://localhost:8080/",
          "height": 35
        },
        "id": "ISIZj7Dd9RyR",
        "outputId": "51331441-bf5e-4ac7-a925-10033a41e111"
      },
      "outputs": [
        {
          "data": {
            "application/vnd.google.colaboratory.intrinsic+json": {
              "type": "string"
            },
            "text/plain": [
              "'Hello, Jupyter cell!'"
            ]
          },
          "execution_count": 4,
          "metadata": {},
          "output_type": "execute_result"
        }
      ],
      "source": [
        "\"Hello, Jupyter cell!\""
      ]
    },
    {
      "cell_type": "code",
      "execution_count": null,
      "metadata": {
        "colab": {
          "base_uri": "https://localhost:8080/"
        },
        "id": "lu3M22JMCKHt",
        "outputId": "e6b95e74-8c17-4ad3-8919-62cbd0709d65"
      },
      "outputs": [
        {
          "data": {
            "text/plain": [
              "50"
            ]
          },
          "execution_count": 21,
          "metadata": {},
          "output_type": "execute_result"
        }
      ],
      "source": [
        "speed_of_car = 50\n",
        "speed_of_car"
      ]
    },
    {
      "cell_type": "markdown",
      "metadata": {
        "id": "q1KrEehynMej"
      },
      "source": [
        "# 1.0 Statements vs Expressions\n",
        "\n",
        "Let's jump right in.\n",
        "\n",
        "A Python program is a series of expressions and statements. Don't worry about the specifics, but very roughly:\n",
        "\n",
        "* A **statement** is like a **verb**. It **does** something.\n",
        "* An **expression** is like a **noun**. It **is** something.\n",
        "\n",
        "The simplest Python program is a single expression, and the simplest expression is a number.\n",
        "\n",
        "Open up a code cell, type a number, and execute the cell."
      ]
    },
    {
      "cell_type": "code",
      "execution_count": null,
      "metadata": {
        "id": "FSbC809CjYmp"
      },
      "outputs": [],
      "source": []
    },
    {
      "cell_type": "code",
      "execution_count": null,
      "metadata": {
        "colab": {
          "base_uri": "https://localhost:8080/",
          "height": 35
        },
        "id": "0yMwk0ahnPi-",
        "outputId": "0d5583f3-2261-4bfc-a79b-9ea0d598974c"
      },
      "outputs": [
        {
          "data": {
            "text/plain": [
              "49"
            ]
          },
          "execution_count": 10,
          "metadata": {
            "tags": []
          },
          "output_type": "execute_result"
        }
      ],
      "source": [
        "# Statement\n",
        "49"
      ]
    },
    {
      "cell_type": "code",
      "execution_count": null,
      "metadata": {
        "id": "XFz48qheo0JJ"
      },
      "outputs": [],
      "source": [
        "# Expression\n",
        "a = 49"
      ]
    },
    {
      "cell_type": "code",
      "execution_count": null,
      "metadata": {
        "colab": {
          "base_uri": "https://localhost:8080/"
        },
        "id": "8QUbJa3qo24H",
        "outputId": "3697eb6e-222f-4d2a-c0d6-f706f22127cf"
      },
      "outputs": [
        {
          "name": "stdout",
          "output_type": "stream",
          "text": [
            "49\n"
          ]
        }
      ],
      "source": [
        "# you can evaluvate variables and expressions from other cells as long as they are run before\n",
        "print(a)"
      ]
    },
    {
      "cell_type": "markdown",
      "metadata": {
        "id": "fgPePGidi-Vc"
      },
      "source": [
        "# 2.0 Expressions\n",
        "\n",
        "Through this course we are going to go through each *different types* of expressions such as **literal, arthimetic, comparision expressions, function call expressions and comprhensions**; but for now we are going to only focus on some of them."
      ]
    },
    {
      "cell_type": "markdown",
      "metadata": {
        "id": "kwXBXpCpo76h"
      },
      "source": [
        "##  2.10 Literal Expressions"
      ]
    },
    {
      "cell_type": "markdown",
      "metadata": {
        "id": "bLeQUYjqo_CN"
      },
      "source": [
        "An expression which expresses a single value is called a **literal**. A literal has a **type**. The above literal is an **integer**.\n",
        "\n",
        "Python has several numeric types.\n",
        "\n",
        "Here's a floating point number:\n"
      ]
    },
    {
      "cell_type": "code",
      "execution_count": null,
      "metadata": {
        "colab": {
          "base_uri": "https://localhost:8080/",
          "height": 35
        },
        "id": "UWdWsE8Do3Sr",
        "outputId": "6aa96c3c-8b80-4e57-ca57-9632088e8945"
      },
      "outputs": [
        {
          "data": {
            "text/plain": [
              "4.52324"
            ]
          },
          "execution_count": 14,
          "metadata": {
            "tags": []
          },
          "output_type": "execute_result"
        }
      ],
      "source": [
        "# Floating Point Number\n",
        "4.52324"
      ]
    },
    {
      "cell_type": "markdown",
      "metadata": {
        "id": "c6lAqEdipHn-"
      },
      "source": [
        "#### 2.11 Complex Numbers"
      ]
    },
    {
      "cell_type": "markdown",
      "metadata": {
        "id": "cdKsh6_yE2in"
      },
      "source": [
        "We can even represent complex numbers using the **complex** function as well as the **j** keyword after the second digit"
      ]
    },
    {
      "cell_type": "code",
      "execution_count": null,
      "metadata": {
        "colab": {
          "base_uri": "https://localhost:8080/"
        },
        "id": "sfLlciclpEL4",
        "outputId": "7d52b5ff-6e12-404f-b574-8b9a4e748673"
      },
      "outputs": [
        {
          "name": "stdout",
          "output_type": "stream",
          "text": [
            "(2+2j)\n"
          ]
        }
      ],
      "source": [
        "#Example 1\n",
        "# Complex Number\n",
        "num1 = complex(1, 5)\n",
        "num2 = 1-3j\n",
        "\n",
        "print(num1+num2)\n",
        "\n"
      ]
    },
    {
      "cell_type": "markdown",
      "metadata": {
        "id": "wA4xn3m1K0Jk"
      },
      "source": [
        "#### 2.12 Data Types of Literal Expressions"
      ]
    },
    {
      "cell_type": "markdown",
      "metadata": {
        "id": "pEkW1GR3pOdv"
      },
      "source": [
        "As I mentioned before, literals have types. In fact - the result of _all_ expressions have a type. You can check the type of an expression with the `type` function.\n",
        "\n",
        "```python\n",
        "type(EXPRESSION)\n",
        "```\n",
        "\n",
        "Try it out."
      ]
    },
    {
      "cell_type": "code",
      "execution_count": null,
      "metadata": {
        "colab": {
          "base_uri": "https://localhost:8080/"
        },
        "id": "YoLRfDRcDIMG",
        "outputId": "604c277e-43cb-4c8f-c341-006b34473e22"
      },
      "outputs": [
        {
          "name": "stdout",
          "output_type": "stream",
          "text": [
            "120\n",
            "helloworld\n",
            "<class 'int'>\n",
            "<class 'str'>\n"
          ]
        }
      ],
      "source": [
        "a = 100 + 20\n",
        "b = \"hello\" + \"world\"\n",
        "\n",
        "print(a)\n",
        "print(b)\n",
        "print(type(a))\n",
        "print(type(b))"
      ]
    },
    {
      "cell_type": "markdown",
      "metadata": {
        "id": "3d3Pn3qrFwJn"
      },
      "source": [
        "If print out the datatype of both the **integer 5** and the **variable a** with the value of 5 --> both the **same datatype** of *int*"
      ]
    },
    {
      "cell_type": "code",
      "execution_count": null,
      "metadata": {
        "colab": {
          "base_uri": "https://localhost:8080/"
        },
        "id": "3JbG6Gbs4TZ9",
        "outputId": "6687bf8a-a6d9-4100-e97d-5bc39960a4ec"
      },
      "outputs": [
        {
          "name": "stdout",
          "output_type": "stream",
          "text": [
            "Marry me\n",
            "5th jan 2026\n",
            "2026\n",
            "<class 'str'>\n",
            "<class 'str'>\n",
            "<class 'int'>\n"
          ]
        }
      ],
      "source": [
        "x=\"Marry\" + \" \" + \"me\"\n",
        "y=\"5th jan 2026\"\n",
        "z=2026\n",
        "\n",
        "print(x)\n",
        "print(y)\n",
        "print(z)\n",
        "print(type(x))\n",
        "print(type(y))\n",
        "print(type(z))"
      ]
    },
    {
      "cell_type": "code",
      "execution_count": null,
      "metadata": {
        "colab": {
          "base_uri": "https://localhost:8080/"
        },
        "id": "81WsB93lpJ0O",
        "outputId": "72dfb51b-7333-4baa-e335-2cc10cb1d182"
      },
      "outputs": [
        {
          "name": "stdout",
          "output_type": "stream",
          "text": [
            "data type of 5 is <class 'int'>\n",
            "data type of a is <class 'float'>\n"
          ]
        }
      ],
      "source": [
        "#Example 1\n",
        "print(\"data type of 5 is\", type(5))\n",
        "a = 5.2\n",
        "print(\"data type of a is\", type(a))"
      ]
    },
    {
      "cell_type": "code",
      "execution_count": null,
      "metadata": {
        "colab": {
          "base_uri": "https://localhost:8080/"
        },
        "id": "hOQVuxjGpSLO",
        "outputId": "9cd8c171-7796-4205-e3ec-12a2f72172e7"
      },
      "outputs": [
        {
          "name": "stdout",
          "output_type": "stream",
          "text": [
            "<class 'float'>\n"
          ]
        }
      ],
      "source": [
        "a=5.2\n",
        "print(type(a))\n"
      ]
    },
    {
      "cell_type": "code",
      "execution_count": null,
      "metadata": {
        "colab": {
          "base_uri": "https://localhost:8080/"
        },
        "id": "XWFdBTAQpUHl",
        "outputId": "f15e661b-f529-4d88-b62d-d1aaba96c4f9"
      },
      "outputs": [
        {
          "data": {
            "text/plain": [
              "complex"
            ]
          },
          "execution_count": 26,
          "metadata": {},
          "output_type": "execute_result"
        }
      ],
      "source": [
        "type(complex(4, 3))"
      ]
    },
    {
      "cell_type": "markdown",
      "metadata": {
        "id": "rUewwRMkfUIP"
      },
      "source": [
        "Notice how you will never have to declare the data type or allocate memory when creating a variable."
      ]
    },
    {
      "cell_type": "markdown",
      "metadata": {
        "id": "Zb8IYOjBqLLz"
      },
      "source": [
        "## 2.20 Arithmetic Expressions\n",
        "\n",
        "Python provides several simple arithmetic expressions for use with numeric literals.\n",
        "\n",
        "* `+` addition\n",
        "* `-` subtraction\n",
        "* `*` multiplication\n",
        "* `/` division\n",
        "* `**` exponentiation\n",
        "\n",
        "### 1.21 Other types of arithmetic expressions:\n",
        "\n",
        "* `//` floor division\n",
        "* `%` Modulo\n"
      ]
    },
    {
      "cell_type": "code",
      "execution_count": null,
      "metadata": {
        "colab": {
          "base_uri": "https://localhost:8080/"
        },
        "id": "Z1krVv0pqICJ",
        "outputId": "9de4e641-c7e3-4527-ee65-aeff4711753c"
      },
      "outputs": [
        {
          "name": "stdout",
          "output_type": "stream",
          "text": [
            "12\n"
          ]
        }
      ],
      "source": [
        "#Example 1\n",
        "\n",
        "# Addition\n",
        "\n",
        "a=10\n",
        "print(a+2)\n"
      ]
    },
    {
      "cell_type": "code",
      "execution_count": null,
      "metadata": {
        "colab": {
          "base_uri": "https://localhost:8080/"
        },
        "id": "43zvyufIDtxW",
        "outputId": "9c7deec5-98ea-4cfa-b12a-0a95b8f40870"
      },
      "outputs": [
        {
          "name": "stdout",
          "output_type": "stream",
          "text": [
            "9\n"
          ]
        }
      ],
      "source": [
        "# Example 2\n",
        "a=a+2\n",
        "b=21\n",
        "print(b-a)"
      ]
    },
    {
      "cell_type": "code",
      "execution_count": null,
      "metadata": {
        "colab": {
          "base_uri": "https://localhost:8080/"
        },
        "id": "cfHsOkipkabq",
        "outputId": "bf10a3dd-3760-42b3-eafe-fc3778ee3979"
      },
      "outputs": [
        {
          "name": "stdout",
          "output_type": "stream",
          "text": [
            "6\n"
          ]
        }
      ],
      "source": [
        "# Example 3\n",
        "# Subtraction\n",
        "print(a-6)\n"
      ]
    },
    {
      "cell_type": "code",
      "execution_count": null,
      "metadata": {
        "colab": {
          "base_uri": "https://localhost:8080/"
        },
        "id": "_njiEMPTkkAR",
        "outputId": "a814a3a6-c876-4113-a5b9-99724f597295"
      },
      "outputs": [
        {
          "name": "stdout",
          "output_type": "stream",
          "text": [
            "36\n"
          ]
        }
      ],
      "source": [
        "# Example 4\n",
        "# Multiplication\n",
        "print(a*3)"
      ]
    },
    {
      "cell_type": "code",
      "execution_count": null,
      "metadata": {
        "colab": {
          "base_uri": "https://localhost:8080/"
        },
        "id": "AUrr9XkUkm4Z",
        "outputId": "9eb9a4f1-8d37-4197-87d8-a7839a0ee1e8"
      },
      "outputs": [
        {
          "name": "stdout",
          "output_type": "stream",
          "text": [
            "3.0\n"
          ]
        }
      ],
      "source": [
        "# Example 5\n",
        "# Division\n",
        "print(a/4)\n"
      ]
    },
    {
      "cell_type": "code",
      "execution_count": null,
      "metadata": {
        "colab": {
          "base_uri": "https://localhost:8080/"
        },
        "id": "5GNPXbJjko66",
        "outputId": "77494018-4fae-4a00-cbe8-96fab0cd7e90"
      },
      "outputs": [
        {
          "name": "stdout",
          "output_type": "stream",
          "text": [
            "144\n"
          ]
        }
      ],
      "source": [
        "# Example 6\n",
        "# Exponentiation\n",
        "b=2\n",
        "print(a**b)"
      ]
    },
    {
      "cell_type": "markdown",
      "metadata": {
        "id": "q-7Z5-qrlBzu"
      },
      "source": [
        "Questions:\n",
        "\n",
        "1. What is Floor division?\n",
        "2. What is Modulo"
      ]
    },
    {
      "cell_type": "code",
      "execution_count": null,
      "metadata": {
        "colab": {
          "base_uri": "https://localhost:8080/"
        },
        "id": "Qq26gfHOlLkW",
        "outputId": "b27dc54b-77d5-495a-88f2-01c80a714230"
      },
      "outputs": [
        {
          "name": "stdout",
          "output_type": "stream",
          "text": [
            "2.125\n",
            "3\n"
          ]
        }
      ],
      "source": [
        "#Floor Division\n",
        "print(17 / 8)\n",
        "print(18//5)"
      ]
    },
    {
      "cell_type": "code",
      "execution_count": null,
      "metadata": {
        "colab": {
          "base_uri": "https://localhost:8080/"
        },
        "id": "syjyP9H1lWZk",
        "outputId": "abf1f5b0-3409-4fce-c4e0-50b9b075c011"
      },
      "outputs": [
        {
          "name": "stdout",
          "output_type": "stream",
          "text": [
            "8\n",
            "3\n"
          ]
        }
      ],
      "source": [
        "# Modulo\n",
        "print(17 % 9)\n",
        "print(18%5)"
      ]
    },
    {
      "cell_type": "markdown",
      "metadata": {
        "id": "tjx-qpZIqkbV"
      },
      "source": [
        "## 2.30 Variable Expressions\n",
        "\n",
        "Python provides a way to name values called **variables**. You're probably used to variables from algebra, where they're used to store numbers.\n",
        "\n",
        "$$ x_i = 15.4 $$\n",
        "\n",
        "In Python, variables are declared with an **assignment statement**, which simultaneously creates the variable and assigns it a value. This is accomplished with the **assignment operator** `=`, like this:\n",
        "\n",
        "```python\n",
        "VARIABLE = VALUE_EXPRESSION\n",
        "```\n",
        "\n",
        "For example, here we create a value `a` and assign it the float-typed value `1969.2121`."
      ]
    },
    {
      "cell_type": "code",
      "execution_count": null,
      "metadata": {
        "colab": {
          "base_uri": "https://localhost:8080/",
          "height": 35
        },
        "id": "MqJqXYM_qkzx",
        "outputId": "2d680f6e-95bc-4b16-f0ca-41d0e8ddd44b"
      },
      "outputs": [
        {
          "name": "stdout",
          "output_type": "stream",
          "text": [
            "1979.2121\n"
          ]
        }
      ],
      "source": [
        "a = 1969.2121\n",
        "b = 10\n",
        "c = a + b\n",
        "print(c)"
      ]
    },
    {
      "cell_type": "markdown",
      "metadata": {
        "id": "B-eMShJmkrSB"
      },
      "source": [
        "**Note** the assignment operator `=` is pronounced \"gets\", _not_ \"equals\". The statement `a = 12` is pronounced \"ay gets twelve\"."
      ]
    },
    {
      "cell_type": "markdown",
      "metadata": {
        "id": "3L84GS1GrFpT"
      },
      "source": [
        "#### 2.31 Code readability\n",
        "\n",
        "The use of descriptive variable names is an important part of writing readable code. The convention in python is to use one to threeish lower-case words joined using an underscore. For example:\n",
        "\n",
        "`birthday`\n",
        "\n",
        "or\n",
        "\n",
        "`party_date`\n",
        "\n",
        "In some cases convention allows for shorter variable names. `i` is a conventional name for a loop counter, for instance."
      ]
    },
    {
      "cell_type": "markdown",
      "metadata": {
        "id": "YVmYwQIUrQW0"
      },
      "source": [
        "###2.32 Right-to-left execution\n",
        "\n",
        "If you try the following code, what do you think will happen?\n",
        "\n",
        "```python\n",
        "a = 7\n",
        "a = a*2\n",
        "print( a )\n",
        "```\n",
        "\n",
        "Try it out in your own notebook!\n"
      ]
    },
    {
      "cell_type": "code",
      "execution_count": null,
      "metadata": {
        "colab": {
          "base_uri": "https://localhost:8080/"
        },
        "id": "bvJnQ7-JrIz9",
        "outputId": "e1864d12-306c-4989-f220-bbac587f4022"
      },
      "outputs": [
        {
          "name": "stdout",
          "output_type": "stream",
          "text": [
            "14\n"
          ]
        }
      ],
      "source": [
        "#Example 1\n",
        "a = 7\n",
        "a = a*2\n",
        "print( a )"
      ]
    },
    {
      "cell_type": "code",
      "execution_count": null,
      "metadata": {
        "colab": {
          "base_uri": "https://localhost:8080/"
        },
        "id": "mdwIPtugld3d",
        "outputId": "233a7f47-44d6-4743-b76a-76e487c3f56d"
      },
      "outputs": [
        {
          "name": "stdout",
          "output_type": "stream",
          "text": [
            "21\n"
          ]
        }
      ],
      "source": [
        "# This is the same as above but with a different method\n",
        "a = 7\n",
        "a *= 3\n",
        "print( a )"
      ]
    },
    {
      "cell_type": "markdown",
      "metadata": {
        "id": "NfgoMnR4rYND"
      },
      "source": [
        "Against intuition, this actually works. This is because an assignment statement is evaluated **right to left**. First the expression on the right of the `=` is evaluated, and then the result is assigned to the variable on the left.\n",
        "\n",
        "Changing variables in this way occurs so commonly that there is built-in shorthand for it. The result of the first line could have been achieved with `x += 5`. This **syntactic sugar** is available for all the simple operations `+`, `-`, `*`, `/`, `**`, and `%` that we covered earlier."
      ]
    },
    {
      "cell_type": "markdown",
      "metadata": {
        "id": "JdXMCt4Orst_"
      },
      "source": [
        "# 3.0 Conditional Statements\n",
        "\n",
        "We can't write a program without the ability to make a _choice_, and the **conditional** statements provides this ability. The conditional provides a way to specify that a statement should only be executed only if certain conditions are met or not met.\n",
        "\n",
        "Conditional statements utilize **comparision expressions and logical expressions** together to evaluvlate to a **boolean**."
      ]
    },
    {
      "cell_type": "markdown",
      "metadata": {
        "id": "hIIyMwEznQ23"
      },
      "source": [
        "##3.10 Boolean Data Type\n",
        "`True` and `False` are what we call booleans in logic (`bool` for short), and what Python calls them. They are a special variable type with many potential uses; mainly they are used as a way to put a label on the truth of a statement. There are two specifically reserved words for bools in Python, `True` and `False`. Note that these begin with capital letters.\n",
        "\n",
        "```python\n",
        "In [1]: type(True)\n",
        "Out[1]: bool\n",
        "\n",
        "In [2]: type(False)\n",
        "Out[2]: bool\n",
        "```\n",
        "Btw if any number of any data type that is not 0 or any string, list or dictionary which is not empty evaluvates to True for booleans. *Don't worry right now.*\n",
        "\n",
        "We can print boolean expressions either by either printing out what a **condition** will evaluvate to:\n",
        "\n",
        "```python\n",
        "a = 3\n",
        "print(a != 3)\n",
        "```\n",
        "or either by calling a **function** that returns a boolean value:\n",
        "\n",
        "```python\n",
        "def islarger(a, b):\n",
        "  if (a > b):\n",
        "    return True\n",
        "  else:\n",
        "    return False\n",
        "```"
      ]
    },
    {
      "cell_type": "code",
      "execution_count": null,
      "metadata": {
        "colab": {
          "base_uri": "https://localhost:8080/"
        },
        "id": "tDSfokyef4x9",
        "outputId": "d55579de-3750-431d-cd01-ca15ce1ad6fb"
      },
      "outputs": [
        {
          "name": "stdout",
          "output_type": "stream",
          "text": [
            "False\n"
          ]
        }
      ],
      "source": [
        "a = 3\n",
        "print(a != 3)"
      ]
    },
    {
      "cell_type": "code",
      "execution_count": null,
      "metadata": {
        "id": "QJwivdZzgBFg"
      },
      "outputs": [],
      "source": [
        "b=10\n",
        "\n",
        "def islarger(a, b):\n",
        "  if (a > b):\n",
        "    return True\n",
        "  else:\n",
        "    return False\n",
        "\n",
        "\n"
      ]
    },
    {
      "cell_type": "markdown",
      "metadata": {
        "id": "nnE-9Xt_pXNP"
      },
      "source": [
        "##3.20 If Statement"
      ]
    },
    {
      "cell_type": "markdown",
      "metadata": {
        "id": "Xe4gGrnxmLZD"
      },
      "source": [
        "The general syntax of an `if` statement in Python is:\n",
        "\n",
        "```python\n",
        "if condition:\n",
        "    if_block_statement\n",
        "```\n",
        "\n",
        "Notice how the `if` statement ends in a colon `:`. This is the way that Python declares the start of an indentation block."
      ]
    },
    {
      "cell_type": "code",
      "execution_count": null,
      "metadata": {
        "colab": {
          "base_uri": "https://localhost:8080/"
        },
        "id": "Yu_gBL12rymO",
        "outputId": "a29b8100-45c4-4d49-a595-9850447b0dc3"
      },
      "outputs": [
        {
          "name": "stdout",
          "output_type": "stream",
          "text": [
            "NOT IN RANGE\n"
          ]
        }
      ],
      "source": [
        "# Example 1\n",
        "a>=6\n",
        "if a!=7:\n",
        "  print(\"NOT IN RANGE\")\n",
        "else:\n",
        "  print(\"IN RANGE\")\n",
        "\n"
      ]
    },
    {
      "cell_type": "markdown",
      "metadata": {
        "id": "64ZHOhQuq9co"
      },
      "source": [
        "We use *comparision expressions*: **==, !=, >, <, <=, or <=** within the condition to make the contional make a choice."
      ]
    },
    {
      "cell_type": "code",
      "execution_count": null,
      "metadata": {
        "colab": {
          "base_uri": "https://localhost:8080/"
        },
        "id": "30Hbr9iHr17S",
        "outputId": "2a8ee68f-a75f-4530-afc2-e0b53b5883ea"
      },
      "outputs": [
        {
          "name": "stdout",
          "output_type": "stream",
          "text": [
            "a is something else\n"
          ]
        }
      ],
      "source": [
        "# Example 2\n",
        "a = 15\n",
        "if a>20:\n",
        "  print(\"a is larger than 20\")\n",
        "elif a==19:\n",
        "  print(\"a is less than 20\")\n",
        "else:\n",
        "  print(\"a is something else\")\n",
        "\n"
      ]
    },
    {
      "cell_type": "markdown",
      "metadata": {
        "id": "KNltItoxr9uH"
      },
      "source": [
        "We use also use keywords like **elif and else** to give our conditional expression more choices when encountered with different values."
      ]
    },
    {
      "cell_type": "code",
      "execution_count": null,
      "metadata": {
        "colab": {
          "base_uri": "https://localhost:8080/"
        },
        "id": "tHrPweTQr7eH",
        "outputId": "8ca521e2-e856-4bd1-b5ee-8924bd5e41c4"
      },
      "outputs": [
        {
          "name": "stdout",
          "output_type": "stream",
          "text": [
            "a is something else\n"
          ]
        }
      ],
      "source": [
        "# Example 3\n",
        "a = 15\n",
        "if a>20:\n",
        "  print(\"a is larger than 20\")\n",
        "elif a==19:\n",
        "  print(\"a is less than 20\")\n",
        "else:\n",
        "  print(\"a is something else\")\n"
      ]
    },
    {
      "cell_type": "markdown",
      "metadata": {
        "id": "Y7MhSr5Osc7x"
      },
      "source": [
        "Within the condition we can specify our condition to be me by using the *logical expressions*: **and, or, not**.\n"
      ]
    },
    {
      "cell_type": "code",
      "execution_count": null,
      "metadata": {
        "colab": {
          "base_uri": "https://localhost:8080/"
        },
        "id": "mciV6Wses23Y",
        "outputId": "0aa5b5ab-11ad-451b-9cea-013797582ac8"
      },
      "outputs": [
        {
          "name": "stdout",
          "output_type": "stream",
          "text": [
            "a is within range of 0 and 10\n"
          ]
        }
      ],
      "source": [
        "#Example 4\n",
        "a = 12\n",
        "if (a>=0 or a<=10):\n",
        "  print(\"a is within range of 0 and 10\")\n",
        "else:\n",
        "  print(\"a is not witin range\")\n"
      ]
    },
    {
      "cell_type": "markdown",
      "metadata": {
        "id": "PaOISmegtxNN"
      },
      "source": [
        "###3.3 Match Case Conditional\n",
        "\n",
        "Before Python 3.10 we did not have this feature however now we are able to use this type of conditional expression. **Match Case** conditional is best used for when there are a bunch of different paths.\n",
        "\n",
        "```python\n",
        "match variable:\n",
        "    case value1:\n",
        "        # do something\n",
        "    case value2:\n",
        "        # do something else\n",
        "    case _:\n",
        "        # default case (like 'else')\n",
        "```"
      ]
    },
    {
      "cell_type": "code",
      "execution_count": null,
      "metadata": {
        "id": "jMlZ718MigJg"
      },
      "outputs": [],
      "source": [
        "a=12\n",
        "b=20\n",
        "match a-b:\n",
        "    case value1:\n",
        "        # do something\n",
        "    case value2:\n",
        "        # do something else\n",
        "    case _:\n",
        "        # default case (like 'else')"
      ]
    },
    {
      "cell_type": "code",
      "execution_count": null,
      "metadata": {
        "colab": {
          "base_uri": "https://localhost:8080/"
        },
        "id": "draYZoYtvZcU",
        "outputId": "f38c4442-7644-410b-d7ab-9cfa94cd7be7"
      },
      "outputs": [
        {
          "name": "stdout",
          "output_type": "stream",
          "text": [
            "Just a regular weekday.\n"
          ]
        }
      ],
      "source": [
        "day = \"Thursday\"\n",
        "\n",
        "match day:\n",
        "  case \"Monday\":\n",
        "    print(\"Start of the week!\")\n",
        "  case \"Friday\":\n",
        "    print(\"Almost the weekend!\")\n",
        "  case \"Saturday\" | \"Sunday\": #| is another representation for 'or' and match case only works with these represetations of logical expressions\n",
        "    print(\"Weekend vibes!\")\n",
        "  case _:\n",
        "    print(\"Just a regular weekday.\")"
      ]
    },
    {
      "cell_type": "markdown",
      "metadata": {
        "id": "ZIXhUrABjIZi"
      },
      "source": [
        "#4.0 Functions\n",
        "\n",
        "We will explore this more later, but for now, I want to quickly introduce you to functions in python.  The syntax for a function is fairly simple, and the more you see it, the easier it will become.  \n",
        "\n",
        "1. Every function starts with a declaritive statement and the **def** keyword. You can pass the function arguments as they are definined after the function name. Once again, make sure that the function name represents what the function does.\n",
        "\n",
        "2. Every function needs a return statement that can return nothing (even if not stated or programmed explicitly), or something useful.\n",
        "\n",
        "For example, I am going to build a function below that adds two numbers together"
      ]
    },
    {
      "cell_type": "code",
      "execution_count": null,
      "metadata": {
        "colab": {
          "base_uri": "https://localhost:8080/"
        },
        "id": "ubrsStU-r9Zx",
        "outputId": "8f026f42-bfff-4a71-a254-b5e5bd198c3e"
      },
      "outputs": [
        {
          "name": "stdout",
          "output_type": "stream",
          "text": [
            "this is a: 10\n",
            "this is b: 15\n",
            "this is a's data type: <class 'int'>\n",
            "this is e: 100\n",
            "this is my final answer: 125\n"
          ]
        }
      ],
      "source": [
        "#Declare and name the function\n",
        "def cindys_cool_add_func(a,b,e):\n",
        "\n",
        "  # Add the two numbers and save as a new variable\n",
        "  print(\"this is a:\", a)\n",
        "  print(\"this is b:\", b)\n",
        "  print(\"this is a's data type:\", type(a))\n",
        "  print(\"this is e:\", e)\n",
        "  c = a + b + e\n",
        "\n",
        "  # Return the value c\n",
        "  return c\n",
        "\n",
        "# Call the function with a = 10, and b = 15\n",
        "d = cindys_cool_add_func(10,15,100)\n",
        "print(\"this is my final answer:\",d)"
      ]
    },
    {
      "cell_type": "code",
      "execution_count": null,
      "metadata": {
        "id": "pNA3X1KqalGl"
      },
      "outputs": [],
      "source": []
    },
    {
      "cell_type": "code",
      "execution_count": null,
      "metadata": {
        "colab": {
          "base_uri": "https://localhost:8080/"
        },
        "id": "AR-yrYNCLAH-",
        "outputId": "da4f49a1-3e1c-4a58-c7e0-fb88f105fab5"
      },
      "outputs": [
        {
          "data": {
            "text/plain": [
              "15"
            ]
          },
          "execution_count": 17,
          "metadata": {},
          "output_type": "execute_result"
        }
      ],
      "source": [
        "#Example 1\n"
      ]
    },
    {
      "cell_type": "markdown",
      "metadata": {
        "id": "S6bpj52FyuP8"
      },
      "source": [
        "We can even put a match-case conditional in a function definition/body. **Heads up!** What is the return statement of this function?"
      ]
    },
    {
      "cell_type": "code",
      "execution_count": null,
      "metadata": {
        "id": "A95tyqshLana"
      },
      "outputs": [],
      "source": [
        "def menu_option(choice):\n",
        "    match choice:\n",
        "        case 1:\n",
        "            print(\"You chose: View Balance\")\n",
        "        case 2:\n",
        "            print(\"You chose: Deposit Money\")\n",
        "        case 3:\n",
        "            print(\"You chose: Withdraw Money\")\n",
        "        case _:\n",
        "            print(\"Invalid option!\")\n",
        "\n",
        "# Test it\n",
        "menu_option(2)  # Output: You chose: Deposit Money\n",
        "menu_option(5)  # Output: Invalid option!"
      ]
    },
    {
      "cell_type": "markdown",
      "metadata": {
        "id": "HqmAzfA80zbp"
      },
      "source": [
        "#5.0 User Input\n",
        "\n",
        "We can take user input using the **input()** in built function.\n",
        "\n",
        "It pauses program execution and waits for the user to type something and press Enter. The value entered by the user is then returned as a string.\n",
        "\n",
        "```python\n",
        "user_name = input(\"Please enter your name: \")\n",
        "print(\"Hello,\", user_name + \"!\")\n",
        "```\n",
        "\n",
        "As you can see, you can provide a string argument to input() which serves as a prompt message displayed to the user, guiding them on what to enter"
      ]
    },
    {
      "cell_type": "code",
      "execution_count": null,
      "metadata": {
        "colab": {
          "base_uri": "https://localhost:8080/"
        },
        "id": "eJD6uHFEp763",
        "outputId": "9432e5e9-f33c-4277-f1fd-d55ed7c38cc7"
      },
      "outputs": [
        {
          "name": "stdout",
          "output_type": "stream",
          "text": [
            "Please enter your name: Alpana\n",
            "Hello, Alpana!\n"
          ]
        }
      ],
      "source": [
        "user_name = input(\"Please enter your name: \")\n",
        "print(\"Hello,\", user_name + \"!\")"
      ]
    },
    {
      "cell_type": "markdown",
      "metadata": {
        "id": "xSWK9BxN1gOk"
      },
      "source": [
        "##5.10 Handling Numeric Input\n",
        "Since input() always returns a string, if you need to perform mathematical operations on the input, you must explicitly convert it to a numeric type (integer or float) using *type casting functions* like **int() or float()**."
      ]
    },
    {
      "cell_type": "markdown",
      "metadata": {
        "id": "bF6bvSYi1tmt"
      },
      "source": [
        "Now try to take a numeric input from the user using float then try to convert it to either a float or integer to store in an int or float variable."
      ]
    },
    {
      "cell_type": "code",
      "execution_count": null,
      "metadata": {
        "colab": {
          "base_uri": "https://localhost:8080/"
        },
        "id": "mPmOPR9H1sWa",
        "outputId": "22b48d92-0501-4d0c-8ec9-8df15043ec14"
      },
      "outputs": [
        {
          "name": "stdout",
          "output_type": "stream",
          "text": [
            "please enter your age: 50\n",
            "You are this many years old: 50\n"
          ]
        }
      ],
      "source": [
        "#Example 1\n",
        "#take age from user and store it in variable called age_int as an int data type\n",
        "age_str = input(\"please enter your age: \")\n",
        "age_int = int(age_str)\n",
        "print(\"You are this many years old:\", age_int)"
      ]
    },
    {
      "cell_type": "code",
      "execution_count": null,
      "metadata": {
        "colab": {
          "base_uri": "https://localhost:8080/"
        },
        "id": "oOR4gFu_aoO1",
        "outputId": "72807b60-e72c-41db-d414-a28c66101456"
      },
      "outputs": [
        {
          "name": "stdout",
          "output_type": "stream",
          "text": [
            "The quotient after division between 12 and  124 is 1488\n",
            "The final answer after multiplication 5 with 45 is 225\n",
            "The final answer after subtracting 5 from 4 is -1\n",
            "The final answer after adding 3 numbers entered above is:  18\n"
          ]
        }
      ],
      "source": []
    },
    {
      "cell_type": "code",
      "execution_count": null,
      "metadata": {},
      "outputs": [
        {
          "name": "stdout",
          "output_type": "stream",
          "text": [
            "The multiplication between  85 and  6 is 510\n"
          ]
        }
      ],
      "source": [
        "# Create functions for all the calculation signs\n",
        "\n",
        "adder = lambda a, b: a + b\n",
        "subtractor = lambda a, b: a - b\n",
        "multiplier = lambda a, b: a * b\n",
        "divisor = lambda a, b: a / b\n",
        "expo = lambda a, b: a ** b\n",
        "\n",
        "a = int(input(\"Enter first number: \"))\n",
        "b = int(input(\"Enter 2nd number: \"))\n",
        "c = input(\"calculation sign: \")\n",
        "\n",
        "if c == \"/\":\n",
        "  print(\"The result after dividing\", a, \"from \", b, \"is\", divisor(a, b))\n",
        "elif c == \"*\":\n",
        "  print(\"The multiplication between \", a, \"and \", b, \"is\", multiplier(a, b))\n",
        "elif c == \"-\":\n",
        "  print(\"The subtraction of\", b, \"from\", a, \"is\", subtractor(a, b))\n",
        "elif c == \"+\":\n",
        "  print(\"The addition of\", a, \"and\", b, \"is\", adder(a, b))\n",
        "elif c == \"**\":\n",
        "  print(\"The result of base\", a, \"and exponent\", b, \"is\", expo(a, b))"
      ]
    }
  ],
  "metadata": {
    "colab": {
      "include_colab_link": true,
      "provenance": [],
      "toc_visible": true
    },
    "kernelspec": {
      "display_name": "base",
      "language": "python",
      "name": "python3"
    },
    "language_info": {
      "codemirror_mode": {
        "name": "ipython",
        "version": 3
      },
      "file_extension": ".py",
      "mimetype": "text/x-python",
      "name": "python",
      "nbconvert_exporter": "python",
      "pygments_lexer": "ipython3",
      "version": "3.12.7"
    }
  },
  "nbformat": 4,
  "nbformat_minor": 0
}
