{
  "nbformat": 4,
  "nbformat_minor": 0,
  "metadata": {
    "colab": {
      "provenance": [],
      "toc_visible": true,
      "include_colab_link": true
    },
    "kernelspec": {
      "name": "python3",
      "display_name": "Python 3"
    }
  },
  "cells": [
    {
      "cell_type": "markdown",
      "metadata": {
        "id": "view-in-github",
        "colab_type": "text"
      },
      "source": [
        "<a href=\"https://colab.research.google.com/github/AlpanaHansaria/Python_exercises/blob/main/IntroductiontoPythonClass5_Alpana.ipynb\" target=\"_parent\"><img src=\"https://colab.research.google.com/assets/colab-badge.svg\" alt=\"Open In Colab\"/></a>"
      ]
    },
    {
      "cell_type": "markdown",
      "metadata": {
        "id": "EGaF2GT4uTfu"
      },
      "source": [
        "# Intro to Python Class 5 Student Handout\n",
        "## <font color='turquoise'>opaledge</font>\n",
        "\n",
        "This is an \"Google Colab\" notebook. It's very similar to Jupyter Notebook, which we'll use extensively in this class. Unlike in Jupyter notebooks, however, this is a shared document where everybody can see and make changes to the same document.\n",
        "\n",
        "These problems are directly related to the slides for **week 2 class 2** that we will be going over in class.\n",
        "\n",
        "**Reference Links**:\n",
        "\n",
        "[W3 Schools](https://www.w3schools.com/python/)\n",
        "\n",
        "[Linux Commands](https://www.digitalocean.com/community/tutorials/linux-commands#file-and-directory-commands)\n",
        "\n",
        "[Git/Github Commands](https://github.com/joshnh/Git-Commands)"
      ]
    },
    {
      "cell_type": "markdown",
      "metadata": {
        "id": "ZIXhUrABjIZi"
      },
      "source": [
        "#1.0 Data Structures\n",
        "\n",
        "Types of Data Strucutes:\n",
        "\n",
        "**Data structures** in Python are tools for storing, organizing, and managing data efficiently for operations like searching, updating, and deleting.\n",
        "\n",
        "They act as containers that organize data based on how it will be used or accessed.\n",
        "\n",
        "**Built-in data structures** include {lists, tuples, sets, and dictionaries}—ready to use without any imports.\n",
        "\n",
        "These built-ins are easy to use, efficient, and well-integrated with Python’s syntax.\n",
        "\n",
        "**User-defined data structures **are custom-made using classes or modules like collections and queue.\n",
        "\n",
        "Examples of user-defined structures include {stacks, queues, linked lists, trees, and graphs}.\n",
        "\n",
        "They're useful when you need specialized behavior or complex relationships between data elements.\n",
        "\n",
        "They're also key for implementing custom algorithms like DFS, BFS, or Dijkstra’s algorithm."
      ]
    },
    {
      "cell_type": "markdown",
      "source": [
        "#2.0 User Defined Data Structures"
      ],
      "metadata": {
        "id": "DLIK7xmozyRg"
      }
    },
    {
      "cell_type": "markdown",
      "source": [
        "##2.1 Lists\n",
        "\n",
        "**Key characteristics of Python lists**:\n",
        "\n",
        "Ordered: Elements in a list maintain their insertion order and can be accessed by their index, starting from 0.\n",
        "\n",
        "Mutable: Lists are changeable, meaning elements can be added, removed, or modified after the list has been created.\n",
        "\n",
        "Dynamic: Lists can grow or shrink in size as elements are added or removed.\n",
        "\n",
        "Heterogeneous: A single list can contain elements of various data types.\n",
        "\n",
        "Allow duplicates: Lists can contain multiple occurrences of the same element.\n"
      ],
      "metadata": {
        "id": "AxsxrLE5zVwC"
      }
    },
    {
      "cell_type": "markdown",
      "source": [
        "**Creating a list**:\n",
        "Lists are created by enclosing a comma-separated sequence of elements within square brackets []."
      ],
      "metadata": {
        "id": "YoCjrm4gqB74"
      }
    },
    {
      "cell_type": "code",
      "source": [
        "#Example 1\n",
        "#An empty list\n",
        "empty_list = []\n",
        "\n",
        "#A list of numbers\n",
        "numbers = [1, 2, 3, 4, 5]\n",
        "\n",
        "#A list of strings\n",
        "fruits = [\"apple\", \"banana\", \"cherry\"]\n",
        "\n",
        "#A list with mixed data types\n",
        "mixed_list = [\"hello\", 123, True, 3.14]\n",
        "\n",
        "#Exercise 1: A nested list (list containing another list)\n",
        "nested_list = [\"hello\", 123, True, [3.14, 5.6]]\n",
        "print(nested_list)\n"
      ],
      "metadata": {
        "id": "tiYKcXv9yQyQ",
        "colab": {
          "base_uri": "https://localhost:8080/"
        },
        "outputId": "d925c292-f5e3-411d-d08d-16981d22f5d2"
      },
      "execution_count": 35,
      "outputs": [
        {
          "output_type": "stream",
          "name": "stdout",
          "text": [
            "['hello', 123, True, [3.14, 5.6]]\n"
          ]
        }
      ]
    },
    {
      "cell_type": "markdown",
      "source": [
        "Common list operations:\n",
        "\n",
        "**Accessing elements**: Elements are accessed using their index in square brackets."
      ],
      "metadata": {
        "id": "Ge_lyRIcyXbb"
      }
    },
    {
      "cell_type": "code",
      "metadata": {
        "id": "AR-yrYNCLAH-",
        "colab": {
          "base_uri": "https://localhost:8080/"
        },
        "outputId": "490d5f45-ea3c-45f5-b7a3-e608b13261ee"
      },
      "source": [
        "#Example 2\n",
        "print(fruits[0])  # Output: apple"
      ],
      "execution_count": 36,
      "outputs": [
        {
          "output_type": "stream",
          "name": "stdout",
          "text": [
            "apple\n"
          ]
        }
      ]
    },
    {
      "cell_type": "markdown",
      "source": [
        "**Modifying elements**: Elements can be changed by assigning a new value to a specific index."
      ],
      "metadata": {
        "id": "S6bpj52FyuP8"
      }
    },
    {
      "cell_type": "code",
      "metadata": {
        "id": "A95tyqshLana",
        "colab": {
          "base_uri": "https://localhost:8080/"
        },
        "outputId": "c3ee8f9d-05f1-4ae6-99f1-d578c6788df1"
      },
      "source": [
        "#Example 3\n",
        "fruits[1] = \"orange\"\n",
        "print(fruits)  # Output: ['apple', 'orange', 'cherry']\n",
        "\n",
        "#Exercise 2: What happens when I access the 4th indexed element in this list?\n",
        "print(fruits[2])"
      ],
      "execution_count": 37,
      "outputs": [
        {
          "output_type": "stream",
          "name": "stdout",
          "text": [
            "['apple', 'orange', 'cherry']\n",
            "cherry\n"
          ]
        }
      ]
    },
    {
      "cell_type": "markdown",
      "source": [
        "**Adding elements**:\n",
        "\n",
        "append(): Adds an element to the end of the list.\n",
        "\n",
        "insert(): Inserts an element at a specified index."
      ],
      "metadata": {
        "id": "SZfguYD6o95k"
      }
    },
    {
      "cell_type": "code",
      "source": [
        "#Example 4\n",
        "fruits.append(\"grape\")\n",
        "#Exercise 3: insert \"kiwi\" at the 1st index of the list\n",
        "fruits.insert(1, \"kiwi\")\n",
        "print(fruits)\n"
      ],
      "metadata": {
        "id": "ksNpx0QbpCCy",
        "colab": {
          "base_uri": "https://localhost:8080/"
        },
        "outputId": "8aa42611-86c5-4e17-c1b8-fba87b98e852"
      },
      "execution_count": 38,
      "outputs": [
        {
          "output_type": "stream",
          "name": "stdout",
          "text": [
            "['apple', 'kiwi', 'orange', 'cherry', 'grape']\n"
          ]
        }
      ]
    },
    {
      "cell_type": "markdown",
      "source": [
        "**Removing elements**:\n",
        "\n",
        "remove(): Removes the first occurrence of a specified value.\n",
        "\n",
        "pop(): Removes and returns the element at a specified index (or the last element if no index is given).\n",
        "\n",
        "del: Deletes elements by index or slice."
      ],
      "metadata": {
        "id": "nltzRU5FpU3N"
      }
    },
    {
      "cell_type": "code",
      "source": [
        "#Example 5\n",
        "#fruits.remove(\"kiwi\")\n",
        "print(fruits)\n",
        "popped_fruit = fruits.pop(0)\n",
        "print(popped_fruit)\n",
        "del fruits[0]\n",
        "#print(fruits)"
      ],
      "metadata": {
        "id": "mqGx81D4pZq5",
        "colab": {
          "base_uri": "https://localhost:8080/"
        },
        "outputId": "3142bd62-de93-43de-8808-a21a5edb82e9"
      },
      "execution_count": 39,
      "outputs": [
        {
          "output_type": "stream",
          "name": "stdout",
          "text": [
            "['apple', 'kiwi', 'orange', 'cherry', 'grape']\n",
            "apple\n"
          ]
        }
      ]
    },
    {
      "cell_type": "markdown",
      "source": [
        "**Slicing**: Extracts a sub-sequence of elements."
      ],
      "metadata": {
        "id": "tao1j4Y3pgU8"
      }
    },
    {
      "cell_type": "code",
      "source": [
        "#Example 6\n",
        "numbers = [0, 1, 2, 3, 4]\n",
        "subset = numbers[1:4]  # Elements from index 1 up to (but not including) 4\n",
        "print(subset)"
      ],
      "metadata": {
        "id": "BW0VwQmTpjoj",
        "colab": {
          "base_uri": "https://localhost:8080/"
        },
        "outputId": "774ff3a5-a072-44d3-f876-f09a89cf55fb"
      },
      "execution_count": 41,
      "outputs": [
        {
          "output_type": "stream",
          "name": "stdout",
          "text": [
            "[1, 2, 3]\n"
          ]
        }
      ]
    },
    {
      "cell_type": "markdown",
      "source": [],
      "metadata": {
        "id": "JeewQ3Xvvuic"
      }
    },
    {
      "cell_type": "markdown",
      "source": [
        "##2.2 Tuples vs Lists\n",
        "\n",
        "Tuples and lists are both built-in data structures in Python that are used to store collections of items. They share some similarities, but their key difference lies in their mutability.\n",
        "\n",
        "**Key differences**:\n",
        "\n",
        "*Mutability*\n",
        "\n",
        "**Tuples are immutable**: Once a tuple is created, its contents cannot be changed. This means you can't add, remove, or modify elements in a tuple.\n",
        "\n",
        "*Syntax*\n",
        "\n",
        "Lists: Defined using square brackets [], according to Mimo.\n",
        "\n",
        "**Tuples**: Defined using parentheses (), says GeeksforGeeks.\n",
        "\n",
        "*Performance and memory*\n",
        "\n",
        "Tuples are **generally faster and more memory-efficient than lists**, especially for larger datasets.\n"
      ],
      "metadata": {
        "id": "fxrPKtoivzYi"
      }
    },
    {
      "cell_type": "markdown",
      "source": [
        "**Creating Tuples**:\n",
        "\n",
        "Tuples are typically created by enclosing comma-separated values within parentheses (). A single-element tuple requires a trailing comma to distinguish it from a simple expression."
      ],
      "metadata": {
        "id": "didiKmxiwRTd"
      }
    },
    {
      "cell_type": "code",
      "source": [
        "# Creating a tuple with multiple elements\n",
        "my_tuple = (\"apple\", \"banana\", \"cherry\")\n",
        "\n",
        "# Creating a single-element tuple\n",
        "single_item_tuple = (\"value\",)\n",
        "\n",
        "# Creating an empty tuple\n",
        "empty_tuple = ()\n",
        "\n",
        "# Tuple packing (assigning multiple values to a tuple)\n",
        "a, b, c = 1, 2, 3\n",
        "packed_tuple = (a, b, c)"
      ],
      "metadata": {
        "id": "PWr3NohaxBTX"
      },
      "execution_count": null,
      "outputs": []
    },
    {
      "cell_type": "markdown",
      "source": [
        "**Accessing Tuple Elements**:\n",
        "\n",
        "Elements are accessed using their index within square brackets []."
      ],
      "metadata": {
        "id": "cs4n-rmExTa8"
      }
    },
    {
      "cell_type": "code",
      "source": [
        "#Exercise 1: create a tuple and then print the first element\n"
      ],
      "metadata": {
        "id": "HEAvi72qxXlA"
      },
      "execution_count": null,
      "outputs": []
    },
    {
      "cell_type": "markdown",
      "source": [
        "##2.3 Dictionaries\n",
        "\n",
        "**Key characteristics of Python dictionaries**:\n",
        "\n",
        "Key-Value Pairs:\n",
        "Dictionaries store data in pairs, where each unique key maps to a corresponding value.\n",
        "\n",
        "Mutable:\n",
        "Dictionaries are dynamic; their contents (key-value pairs) can be added, removed, or modified after creation.\n",
        "\n",
        "Keys must be immutable:\n",
        "Dictionary keys must be of an immutable data type, such as strings, numbers, or tuples. Lists and other mutable objects cannot be used as keys.\n",
        "\n",
        "Values can be of any data type:\n",
        "Dictionary values can be any Python object, including other dictionaries, lists, or custom objects.\n",
        "\n",
        "Ordered (from Python 3.7):\n",
        "As of Python 3.7, dictionaries maintain insertion order, meaning the order in which items are added is preserved. In older versions, dictionaries were unordered.\n"
      ],
      "metadata": {
        "id": "2COBYWfiz6r_"
      }
    },
    {
      "cell_type": "markdown",
      "source": [
        "**Creating a Dictionary**:\n",
        "\n",
        "Dictionaries are typically created using curly braces {} with key-value pairs separated by colons : and individual pairs separated by commas ,. An empty dictionary can be created with just {}."
      ],
      "metadata": {
        "id": "dolSZhGTrjur"
      }
    },
    {
      "cell_type": "code",
      "source": [
        "#Example 1\n",
        "# Creating a dictionary\n",
        "my_dict = {\"name\": \"Alice\", \"age\": 30, \"city\": \"New York\"}\n",
        "\n",
        "#Exercise 1: Creating an empty dictionary\n"
      ],
      "metadata": {
        "id": "xqMCT0hv0I-r"
      },
      "execution_count": null,
      "outputs": []
    },
    {
      "cell_type": "markdown",
      "source": [
        "**Accessing Dictionary Values**:\n",
        "\n",
        "Values are accessed by referencing their corresponding keys within square brackets [] or by using the get() method."
      ],
      "metadata": {
        "id": "5zH_n3qbrwv1"
      }
    },
    {
      "cell_type": "code",
      "source": [
        "#Example 2\n",
        "print(my_dict[\"name\"])  # Output: Alice\n",
        "print(my_dict.get(\"age\"))  # Output: 30"
      ],
      "metadata": {
        "id": "trE9zLCsr0kh"
      },
      "execution_count": null,
      "outputs": []
    },
    {
      "cell_type": "markdown",
      "source": [
        "**Adding and Updating Elements**:\n",
        "\n",
        "New key-value pairs can be added by assigning a value to a new key. Existing values can be updated by assigning a new value to an existing key."
      ],
      "metadata": {
        "id": "XNnuz2Q2r8jh"
      }
    },
    {
      "cell_type": "code",
      "source": [
        "#Example 3\n",
        "my_dict[\"occupation\"] = \"Engineer\"  # Adding a new key-value pair\n",
        "#Exercise 2: update age to 31"
      ],
      "metadata": {
        "id": "RRmqSEsir_sS"
      },
      "execution_count": null,
      "outputs": []
    },
    {
      "cell_type": "markdown",
      "source": [
        "**Removing Elements**:\n",
        "\n",
        "Elements can be removed using the del keyword, pop() method (which also returns the removed value)."
      ],
      "metadata": {
        "id": "Xox5Z7DCsYgw"
      }
    },
    {
      "cell_type": "code",
      "source": [
        "#Example 4\n",
        "del my_dict[\"city\"]\n",
        "#Exercise 3: pop and print last popped value"
      ],
      "metadata": {
        "id": "IjpcwEDPsWB3"
      },
      "execution_count": null,
      "outputs": []
    },
    {
      "cell_type": "markdown",
      "source": [
        "##2.4 Sets\n",
        "\n",
        "A set is an **unordered, mutable collection of unique elements**.\n",
        "\n",
        "Sets are useful when you need to remove duplicates, test membership, or perform mathematical set operations like union, intersection, and difference.\n",
        "\n",
        "\n",
        "```\n",
        "my_set = {1, 2, 3}\n",
        "print(my_set)  # Output: {1, 2, 3}\n",
        "```\n",
        "**Key Properties**\n",
        "\n",
        "Unordered: No indexing or slicing like lists\n",
        "\n",
        "Mutable: You can add or remove items\n",
        "\n",
        "Unique Values: Duplicates are automatically removed\n",
        "\n",
        "*No Duplicates* so {1, 2, 2, 3} becomes {1, 2, 3}"
      ],
      "metadata": {
        "id": "9FH5Gg6RySsv"
      }
    },
    {
      "cell_type": "markdown",
      "source": [
        "**Creating Sets**\n",
        "\n",
        "You can create a set using curly braces `{}` or the `set()` constructor. If duplicates exist, they’ll be removed automatically."
      ],
      "metadata": {
        "id": "h9C8e2fJ4D4F"
      }
    },
    {
      "cell_type": "code",
      "source": [
        "#Example 1\n",
        "a = {1, 2, 3}\n",
        "b = set([3, 4, 5])  # Converts a list to a set"
      ],
      "metadata": {
        "id": "SAwQEJet4wz1"
      },
      "execution_count": null,
      "outputs": []
    },
    {
      "cell_type": "markdown",
      "source": [
        "**Adding and Removing Elements**\n",
        "\n",
        "Use `.add()` to insert a new element.\n",
        "\n",
        "Use `.remove()` to delete an element (throws an error if not found).\n",
        "\n",
        "Use `.discard()` to safely remove an element without errors if it doesn’t exist."
      ],
      "metadata": {
        "id": "HE-QSLhN40Za"
      }
    },
    {
      "cell_type": "code",
      "source": [
        "#Example 2\n",
        "a.add(4)         # Adds 4 to the set\n",
        "a.remove(2)      # Removes 2 from the set\n",
        "a.discard(5)     # Does nothing because 5 isn’t in the set"
      ],
      "metadata": {
        "id": "jv8MYJxA5DsX"
      },
      "execution_count": null,
      "outputs": []
    },
    {
      "cell_type": "markdown",
      "source": [
        "**Set Union**\n",
        "\n",
        "The union of two sets combines all elements from both, removing duplicates."
      ],
      "metadata": {
        "id": "IQujYYAA5K4D"
      }
    },
    {
      "cell_type": "code",
      "source": [
        "#Example 3\n",
        "set1 = {1, 2, 3}\n",
        "set2 = {3, 4, 5}\n",
        "print(set1.union(set2))  # Output: {1, 2, 3, 4, 5}"
      ],
      "metadata": {
        "id": "adgOMlU35KOO"
      },
      "execution_count": null,
      "outputs": []
    },
    {
      "cell_type": "markdown",
      "source": [
        "**Set Intersection**\n",
        "\n",
        "Returns only the elements that are common to both sets."
      ],
      "metadata": {
        "id": "UZutBD-L5X-J"
      }
    },
    {
      "cell_type": "code",
      "source": [
        "#Example 4\n",
        "print(set1.intersection(set2))  # Output: {3}"
      ],
      "metadata": {
        "id": "eNFOqhmE5Z03"
      },
      "execution_count": null,
      "outputs": []
    },
    {
      "cell_type": "markdown",
      "source": [
        "**Set Difference**\n",
        "\n",
        "Returns elements that are in the first set but not in the second."
      ],
      "metadata": {
        "id": "L9WdWNYC5iv6"
      }
    },
    {
      "cell_type": "code",
      "source": [
        "print(set1.difference(set2))  # Output: {1, 2}"
      ],
      "metadata": {
        "id": "w8wzmB5N5luU"
      },
      "execution_count": null,
      "outputs": []
    },
    {
      "cell_type": "markdown",
      "source": [
        "**Symmetric Difference**\n",
        "\n",
        "Returns elements that are in either set, but not both."
      ],
      "metadata": {
        "id": "wPYD25Vs5n83"
      }
    },
    {
      "cell_type": "code",
      "source": [
        "print(set1.symmetric_difference(set2))  # Output: {1, 2, 4, 5}"
      ],
      "metadata": {
        "id": "jMHbcpkC54Ee"
      },
      "execution_count": null,
      "outputs": []
    },
    {
      "cell_type": "markdown",
      "source": [
        "**Membership Testing**\n",
        "\n",
        "Quickly check if a value is present in a set using in."
      ],
      "metadata": {
        "id": "uai9AsVb558w"
      }
    },
    {
      "cell_type": "code",
      "source": [
        "print(2 in set1)    # Output: True\n",
        "print(10 in set1)   # Output: False"
      ],
      "metadata": {
        "id": "YZUc5r5x58Uq"
      },
      "execution_count": null,
      "outputs": []
    },
    {
      "cell_type": "markdown",
      "source": [
        "**Clearing and Length**\n",
        "\n",
        "`.clear()` removes all elements.\n",
        "`len()` returns the number of elements in the set."
      ],
      "metadata": {
        "id": "TLhv0shL6BJQ"
      }
    },
    {
      "cell_type": "code",
      "source": [
        "print(len(set1))  # Output: 3\n",
        "set1.clear()      # Now set1 is an empty set"
      ],
      "metadata": {
        "id": "AOObYId66EVe"
      },
      "execution_count": null,
      "outputs": []
    },
    {
      "cell_type": "markdown",
      "source": [
        "**Challenge**: How to find unique words within this sentence?\n",
        "\n",
        "*Hint*: in-built function `.split()` takes a string and splits each word seperated by a blankspace into a list\n",
        "\n",
        "```\n",
        "sentence = \"the quick brown fox jumps over the lazy dog\"\n",
        "```\n",
        "\n"
      ],
      "metadata": {
        "id": "YgJZ_n2O6S3A"
      }
    },
    {
      "cell_type": "code",
      "source": [
        "#Exercise 1: applications of sets\n"
      ],
      "metadata": {
        "id": "c9NBUfA36bhc"
      },
      "execution_count": null,
      "outputs": []
    },
    {
      "cell_type": "markdown",
      "source": [
        "#3.0 Higher Order Functions\n",
        "\n",
        "Takes one or more functions as arguments.\n",
        "\n",
        "This allows for abstracting common patterns and applying different behaviors based on the function passed in.\n",
        "Returns a function as its result.\n",
        "\n",
        "This enables *creating functions dynamically* or building function factories.\n",
        "\n",
        "**Key Concepts**:\n",
        "\n",
        "**First-Class Functions**: In Python, functions are treated as \"first-class citizens,\" meaning they can be assigned to variables, passed as arguments to other functions, stored in data structures, and returned from functions. This characteristic is fundamental to enabling higher-order functions."
      ],
      "metadata": {
        "id": "JICYRg4g-KB2"
      }
    },
    {
      "cell_type": "markdown",
      "source": [
        "**Built-in Higher-Order Functions:**\n",
        "\n",
        "**map()**: Applies a given function to each item in an iterable and returns an iterator of the results.\n",
        "\n",
        "```\n",
        "numbers = [1, 2, 3, 4]\n",
        "squared_numbers = list(map(lambda x: x * x, numbers))\n",
        "```\n",
        "\n",
        "**filter()**: Constructs an iterator from elements of an iterable for which a function returns true.\n",
        "\n",
        "```\n",
        "numbers = [1, 2, 3, 4, 5, 6]\n",
        "even_numbers = list(filter(lambda x: x % 2 == 0, numbers))\n",
        "```\n",
        "\n",
        "**sorted()**: Sorts an iterable and returns a new sorted list. It can take a key argument, which is a function to be called on each list element prior to making comparisons.\n",
        "\n",
        "```\n",
        "words = [\"banana\", \"apple\", \"cherry\"]\n",
        "sorted_by_length = sorted(words, key=len)\n",
        "```"
      ],
      "metadata": {
        "id": "FMPcCcY2-ic7"
      }
    },
    {
      "cell_type": "code",
      "source": [
        "#Exercise 1: Copy and paste each of these and experiment with what happens and see if you can decipher the logic"
      ],
      "metadata": {
        "id": "HGFc5KoJ_U1W"
      },
      "execution_count": null,
      "outputs": []
    }
  ]
}