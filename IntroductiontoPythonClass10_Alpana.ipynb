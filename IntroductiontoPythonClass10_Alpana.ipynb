{
  "nbformat": 4,
  "nbformat_minor": 0,
  "metadata": {
    "colab": {
      "provenance": [],
      "toc_visible": true,
      "include_colab_link": true
    },
    "kernelspec": {
      "name": "python3",
      "display_name": "Python 3"
    }
  },
  "cells": [
    {
      "cell_type": "markdown",
      "metadata": {
        "id": "view-in-github",
        "colab_type": "text"
      },
      "source": [
        "<a href=\"https://colab.research.google.com/github/AlpanaHansaria/Python_exercises/blob/main/IntroductiontoPythonClass10_Alpana.ipynb\" target=\"_parent\"><img src=\"https://colab.research.google.com/assets/colab-badge.svg\" alt=\"Open In Colab\"/></a>"
      ]
    },
    {
      "cell_type": "markdown",
      "metadata": {
        "id": "EGaF2GT4uTfu"
      },
      "source": [
        "# Intro to Python Class 10 Student Version\n",
        "## <font color='turquoise'>opaledge</font>\n",
        "\n",
        "This is an \"Google Colab\" notebook. It's very similar to Jupyter Notebook, which we'll use extensively in this class. Unlike in Jupyter notebooks, however, this is a shared document where everybody can see and make changes to the same document.\n",
        "\n",
        "These problems are directly related to the slides for **week 4 class 1** that we will be going over in class.\n",
        "\n",
        "**Reference Links**:\n",
        "\n",
        "[W3 Schools](https://www.w3schools.com/python/)\n",
        "\n",
        "[Linux Commands](https://www.digitalocean.com/community/tutorials/linux-commands#file-and-directory-commands)\n",
        "\n",
        "[Git/Github Commands](https://github.com/joshnh/Git-Commands)"
      ]
    },
    {
      "cell_type": "markdown",
      "source": [
        "#1.0 Big O Notation\n",
        "\n",
        "**Big O notation** is a mathematical notation used to describe the limiting behavior of a function when the argument tends towards a particular value or infinity. In the context of algorithms, Big O notation provides an upper bound on the growth rate of an algorithm's time complexity. It describes the worst-case scenario for how the runtime of an algorithm grows as the input size (represented by 'n') increases."
      ],
      "metadata": {
        "id": "q04yPifPhna1"
      }
    },
    {
      "cell_type": "markdown",
      "source": [
        "##Types of Big O notation"
      ],
      "metadata": {
        "id": "vjvh0bvzX2ux"
      }
    },
    {
      "cell_type": "code",
      "source": [
        "#O(1)\n",
        "def get_first_element(arr):\n",
        "  return arr[0] #always one operation\n",
        "\n",
        "print(get_first_element[1, 2, 3, 4, 5])\n",
        "\n",
        "#O(n^2)\n",
        "def print_pairs(arr):\n",
        "  for i in range(len(arr)):\n",
        "    for j in range(len(arr)):\n",
        "      print(arr[i], arr[j])\n",
        "\n",
        "print_pairs([1, 2, 3, 4, 5, 6])\n",
        "\n",
        "#O(2^n)\n",
        "def fibonacci(n):\n",
        "    if n <= 1:\n",
        "        return n\n",
        "    return fibonacci(n-1) + fibonacci(n-2)\n",
        "\n",
        "print(fibonacci(10))  # Output: 55"
      ],
      "metadata": {
        "id": "Vl3dE6MwX74d",
        "colab": {
          "base_uri": "https://localhost:8080/",
          "height": 211
        },
        "outputId": "f1f54574-8e2e-4090-c869-e7cadfae2e5f"
      },
      "execution_count": 2,
      "outputs": [
        {
          "output_type": "error",
          "ename": "TypeError",
          "evalue": "'function' object is not subscriptable",
          "traceback": [
            "\u001b[0;31m---------------------------------------------------------------------------\u001b[0m",
            "\u001b[0;31mTypeError\u001b[0m                                 Traceback (most recent call last)",
            "\u001b[0;32m/tmp/ipython-input-3456510367.py\u001b[0m in \u001b[0;36m<cell line: 0>\u001b[0;34m()\u001b[0m\n\u001b[1;32m      3\u001b[0m   \u001b[0;32mreturn\u001b[0m \u001b[0marr\u001b[0m\u001b[0;34m[\u001b[0m\u001b[0;36m0\u001b[0m\u001b[0;34m]\u001b[0m \u001b[0;31m#always one operation\u001b[0m\u001b[0;34m\u001b[0m\u001b[0;34m\u001b[0m\u001b[0m\n\u001b[1;32m      4\u001b[0m \u001b[0;34m\u001b[0m\u001b[0m\n\u001b[0;32m----> 5\u001b[0;31m \u001b[0mprint\u001b[0m\u001b[0;34m(\u001b[0m\u001b[0mget_first_element\u001b[0m\u001b[0;34m[\u001b[0m\u001b[0;36m1\u001b[0m\u001b[0;34m,\u001b[0m \u001b[0;36m2\u001b[0m\u001b[0;34m,\u001b[0m \u001b[0;36m3\u001b[0m\u001b[0;34m,\u001b[0m \u001b[0;36m4\u001b[0m\u001b[0;34m,\u001b[0m \u001b[0;36m5\u001b[0m\u001b[0;34m]\u001b[0m\u001b[0;34m)\u001b[0m\u001b[0;34m\u001b[0m\u001b[0;34m\u001b[0m\u001b[0m\n\u001b[0m\u001b[1;32m      6\u001b[0m \u001b[0;34m\u001b[0m\u001b[0m\n\u001b[1;32m      7\u001b[0m \u001b[0;31m#O(n^2)\u001b[0m\u001b[0;34m\u001b[0m\u001b[0;34m\u001b[0m\u001b[0m\n",
            "\u001b[0;31mTypeError\u001b[0m: 'function' object is not subscriptable"
          ]
        }
      ]
    },
    {
      "cell_type": "markdown",
      "source": [
        "#2.0 Searching Algorithms\n",
        "\n",
        "**Searching algorithms** have one main purpose: to locate a specific piece of data within a collection efficiently."
      ],
      "metadata": {
        "id": "Xh_N-asJcnv1"
      }
    },
    {
      "cell_type": "markdown",
      "source": [
        "## Linear search:\n",
        "\n",
        "Goes through each element of the data structure until it hits the target value or returns that the value is not there.\n",
        "\n",
        "**O(n)**"
      ],
      "metadata": {
        "id": "vgiUmTYScy6-"
      }
    },
    {
      "cell_type": "code",
      "source": [
        "def linear_search(arr, target):\n",
        "    for i in range(len(arr)):\n",
        "        if arr[i] == target:\n",
        "            return i  # Found at index i\n",
        "    return -1  # Not found\n",
        "\n",
        "# Example usage\n",
        "data = [10, 20, 30, 40, 50]\n",
        "print(linear_search(data, 30))  # Output: 2"
      ],
      "metadata": {
        "id": "LBgN0mf8dGw8"
      },
      "execution_count": null,
      "outputs": []
    },
    {
      "cell_type": "markdown",
      "source": [
        "## Binary search:\n",
        "\n",
        "Binary search is an efficient algorithm for finding a target value within a sorted list. It works by repeatedly dividing the search range in half until the target is found (or until the range is empty). The runtime grows slowly as n increases.\n",
        "\n",
        "**O(log(n))**"
      ],
      "metadata": {
        "id": "YMKekLbAdNvt"
      }
    },
    {
      "cell_type": "code",
      "source": [
        "def binary_search(arr, target):\n",
        "    low, high = 0, len(arr)-1\n",
        "    while low <= high:\n",
        "        mid = (low + high) // 2\n",
        "        if arr[mid] == target:\n",
        "            return True\n",
        "        elif arr[mid] < target:\n",
        "            low = mid + 1\n",
        "        else:\n",
        "            high = mid - 1\n",
        "    return False\n",
        "\n",
        "# Example usage\n",
        "print(binary_search([1, 3, 5, 7, 9, 11], 7))"
      ],
      "metadata": {
        "id": "DfCT4G63eZbe"
      },
      "execution_count": null,
      "outputs": []
    },
    {
      "cell_type": "markdown",
      "source": [
        "#3.0 Searching Algorithms\n",
        "\n",
        "**Sorting** is the process of arranging data in a particular order (usually ascending or descending).\n",
        "\n",
        "**Purpose**:\n",
        "\n",
        "- Makes searching faster (e.g., binary search requires sorted data).\n",
        "\n",
        "\n",
        "- Organizes data for reports, visualization, or further processing.\n",
        "\n",
        "\n",
        "- Helps with algorithms that rely on order (like merge operations, priority queues).\n"
      ],
      "metadata": {
        "id": "o8l001ruhi_n"
      }
    },
    {
      "cell_type": "markdown",
      "source": [
        "##Bubble Sort\n",
        "\n",
        "**Bubble Sort** is a simple comparison-based sorting algorithm. It repeatedly compares adjacent elements and swaps them if they are in the wrong order. The process continues until the list is sorted. Named “bubble” sort because larger elements “bubble up” to the end of the list in each pass.\n",
        "\n",
        "Time Complexity: **O(n^2)**\n"
      ],
      "metadata": {
        "id": "UwZE7ZzpiISz"
      }
    },
    {
      "cell_type": "code",
      "source": [
        "#Exercise 1: Bubble Sort\n",
        "\n",
        "def bubble_sort(arr):\n",
        "    n = len(arr)\n",
        "    for i in range(n):\n",
        "        # Track if a swap happens in this pass\n",
        "        swapped = False\n",
        "        for j in range(0, n-i-1):\n",
        "            if arr[j] > arr[j+1]:\n",
        "                arr[j], arr[j+1] = arr[j+1], arr[j]\n",
        "                swapped = True\n",
        "        # If no swaps happened, list is already sorted\n",
        "        if not swapped:\n",
        "            break\n",
        "    return arr\n",
        "\n",
        "# Example\n",
        "numbers = [5, 3, 8, 4, 2]\n",
        "sorted_numbers = bubble_sort(numbers)\n",
        "print(sorted_numbers)  # Output: [2, 3, 4, 5, 8]\n"
      ],
      "metadata": {
        "id": "yomNYv5ciHvB",
        "colab": {
          "base_uri": "https://localhost:8080/"
        },
        "outputId": "8a6e57d8-7692-4b1e-caf7-9d573492fcfc"
      },
      "execution_count": 3,
      "outputs": [
        {
          "output_type": "stream",
          "name": "stdout",
          "text": [
            "[2, 3, 4, 5, 8]\n"
          ]
        }
      ]
    },
    {
      "cell_type": "markdown",
      "source": [
        "##Quick Sort\n",
        "\n",
        "**Quick Sort** is a divide-and-conquer sorting algorithm. It works by choosing a pivot element, partitioning the array so that elements less than pivot go to the left and elements greater than pivot go to the right recursively applying Quick Sort to the left and right subarrays.\n",
        "\n",
        "Time Complexity: **O(log2(O))**"
      ],
      "metadata": {
        "id": "qKdYX_ngk-S5"
      }
    },
    {
      "cell_type": "code",
      "source": [
        "#Exercise: quicksort using recursion\n",
        "def quick_sort(arr):\n",
        "   if len(arr) <= 1:\n",
        "      return arr\n",
        "   pivot = arr[len(arr)//2]\n",
        "   left = [x for x in arr if x < pivot]\n",
        "   middle = [x for x in arr if x == pivot]\n",
        "   right = [x for x in arr if x > pivot]\n",
        "   return quick_sort(left) + middle + quick_sort(right)\n",
        "\n",
        "\n",
        "#usage\n",
        "numbers = [3, 6, 8, 10, 1, 2, 1]\n",
        "print(quick_sort(numbers))  # Output: [1, 1, 2, 3, 6, 8, 10]"
      ],
      "metadata": {
        "colab": {
          "base_uri": "https://localhost:8080/"
        },
        "id": "KUh74uE0lTl4",
        "outputId": "ca633947-03bc-47cf-884b-b1ef1c8fca53"
      },
      "execution_count": 5,
      "outputs": [
        {
          "output_type": "stream",
          "name": "stdout",
          "text": [
            "[1, 1, 2, 3, 6, 8, 10]\n"
          ]
        }
      ]
    },
    {
      "cell_type": "markdown",
      "source": [
        "##Merge Sort\n",
        "\n",
        "**Merge Sort** is a divide-and-conquer sorting algorithm. It divides the array into halves, recursively sorts each half, and then merges the sorted halves. It is known for stable sorting and guaranteed O(n log n) time complexity.\n",
        "\n",
        "**How It Works**\n",
        "\n",
        "- Divide the array into two halves.\n",
        "\n",
        "- Recursively apply Merge Sort to both halves.\n",
        "\n",
        "- Merge the two sorted halves into a single sorted array. Thus u need two functions to perform this sort\n",
        "\n",
        "- Repeat until the entire array is sorted.\n"
      ],
      "metadata": {
        "id": "tgvCmS-JnJIO"
      }
    },
    {
      "cell_type": "code",
      "source": [
        "def merge_sort(arr):\n",
        "    if len(arr) <= 1:\n",
        "        return arr\n",
        "    mid = len(arr) // 2\n",
        "    left = merge_sort(arr[:mid])\n",
        "    right = merge_sort(arr[mid:])\n",
        "    return merge(left, right)\n",
        "\n",
        "#Exercise: Make the merge function\n",
        "def merge(left, right):\n",
        "    result = []\n",
        "    while left and right:\n",
        "        if left[0] < right[0]:\n",
        "            result.append(left.pop(0))\n",
        "        else:\n",
        "            result.append(right.pop(0))\n",
        "    return result + left + right\n",
        "\n",
        "\n",
        "#usage and example\n",
        "numbers = [38, 27, 43, 3, 9, 82, 10]\n",
        "print(merge_sort(numbers))"
      ],
      "metadata": {
        "id": "S3M1IjVInc52",
        "colab": {
          "base_uri": "https://localhost:8080/"
        },
        "outputId": "3db211cf-4ae4-408a-9a31-0e4561f19b06"
      },
      "execution_count": 12,
      "outputs": [
        {
          "output_type": "stream",
          "name": "stdout",
          "text": [
            "[3, 9, 10, 27, 38, 43, 82]\n"
          ]
        }
      ]
    }
  ]
}